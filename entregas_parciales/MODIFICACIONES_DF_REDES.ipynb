{
  "nbformat": 4,
  "nbformat_minor": 0,
  "metadata": {
    "colab": {
      "provenance": [],
      "gpuType": "T4"
    },
    "kernelspec": {
      "name": "python3",
      "display_name": "Python 3"
    },
    "language_info": {
      "name": "python"
    },
    "accelerator": "GPU"
  },
  "cells": [
    {
      "cell_type": "code",
      "source": [
        "\"\"\"El ejercio dos del tp tomamos el dataframe ciudades_de(ciudades_df.to_csv('df_clima_australia.csv', index=False))\n",
        "y lo tranformamos en un archivo csv a continuacion le hacemos modificaciones para trabajar en los modelos de redes\n",
        "neuronales.\"\"\""
      ],
      "metadata": {
        "id": "H8ugQPqD3iK5"
      },
      "execution_count": null,
      "outputs": []
    },
    {
      "cell_type": "code",
      "source": [
        "import pandas as pd"
      ],
      "metadata": {
        "id": "IvdP0X-xfvwv"
      },
      "execution_count": null,
      "outputs": []
    },
    {
      "cell_type": "code",
      "source": [
        "df = pd.read_csv(\"/content/df_clima_australia.csv\")\n",
        "df"
      ],
      "metadata": {
        "id": "R0VNERD8L3rj"
      },
      "execution_count": null,
      "outputs": []
    },
    {
      "cell_type": "code",
      "source": [
        "df.info()#voy a eliminar los valores NAN"
      ],
      "metadata": {
        "id": "khpAafQZMKVR"
      },
      "execution_count": null,
      "outputs": []
    },
    {
      "cell_type": "code",
      "source": [
        "df.dropna(inplace=True)"
      ],
      "metadata": {
        "id": "kio3sf7zMThI"
      },
      "execution_count": null,
      "outputs": []
    },
    {
      "cell_type": "code",
      "source": [
        "df.info()"
      ],
      "metadata": {
        "id": "7C6nd_IMM2Pk"
      },
      "execution_count": null,
      "outputs": []
    },
    {
      "cell_type": "code",
      "source": [
        "df_nom = df.drop(columns=['Date'],  inplace=True)"
      ],
      "metadata": {
        "id": "m-Z6mLUeP4l-"
      },
      "execution_count": null,
      "outputs": []
    },
    {
      "cell_type": "code",
      "source": [
        "df_nom = pd.get_dummies(df, prefix=[\"DirVien\",\"DirVien9am\",\"DirVien3am\",\"LlueveHoy\", \"LlueveMan\", \"ciudades\"], columns=[\"WindGustDir\",\"WindDir9am\",\"WindDir3pm\",\"RainToday\", \"RainTomorrow\", \"Location\"])"
      ],
      "metadata": {
        "id": "xaEm__OINfLt"
      },
      "execution_count": null,
      "outputs": []
    },
    {
      "cell_type": "code",
      "source": [
        "df_nom.info()"
      ],
      "metadata": {
        "id": "ANpU6Ek8O0eO"
      },
      "execution_count": null,
      "outputs": []
    },
    {
      "cell_type": "code",
      "source": [
        "df_nom.to_csv('df_clima_Redes.csv', index=False)#dataset final para trabajar en los modelos de redes neuronales"
      ],
      "metadata": {
        "id": "7vYvSmnOdso-"
      },
      "execution_count": null,
      "outputs": []
    },
    {
      "cell_type": "code",
      "source": [
        "df_nom.columns"
      ],
      "metadata": {
        "id": "ZTwUT2G-QMev"
      },
      "execution_count": null,
      "outputs": []
    }
  ]
}