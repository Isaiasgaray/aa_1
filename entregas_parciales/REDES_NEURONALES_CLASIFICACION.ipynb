{
  "nbformat": 4,
  "nbformat_minor": 0,
  "metadata": {
    "colab": {
      "provenance": [],
      "gpuType": "T4"
    },
    "kernelspec": {
      "name": "python3",
      "display_name": "Python 3"
    },
    "language_info": {
      "name": "python"
    },
    "accelerator": "GPU"
  },
  "cells": [
    {
      "cell_type": "code",
      "source": [
        "!pip install optuna"
      ],
      "metadata": {
        "colab": {
          "base_uri": "https://localhost:8080/"
        },
        "id": "uKjwuclYBG7d",
        "outputId": "b3e6ed05-1b43-4649-c0c8-547d87a53ea7"
      },
      "execution_count": null,
      "outputs": [
        {
          "output_type": "stream",
          "name": "stdout",
          "text": [
            "Collecting optuna\n",
            "  Downloading optuna-3.4.0-py3-none-any.whl (409 kB)\n",
            "\u001b[2K     \u001b[90m━━━━━━━━━━━━━━━━━━━━━━━━━━━━━━━━━━━━━━━━\u001b[0m \u001b[32m409.6/409.6 kB\u001b[0m \u001b[31m6.0 MB/s\u001b[0m eta \u001b[36m0:00:00\u001b[0m\n",
            "\u001b[?25hCollecting alembic>=1.5.0 (from optuna)\n",
            "  Downloading alembic-1.12.1-py3-none-any.whl (226 kB)\n",
            "\u001b[2K     \u001b[90m━━━━━━━━━━━━━━━━━━━━━━━━━━━━━━━━━━━━━━━━\u001b[0m \u001b[32m226.8/226.8 kB\u001b[0m \u001b[31m11.1 MB/s\u001b[0m eta \u001b[36m0:00:00\u001b[0m\n",
            "\u001b[?25hCollecting colorlog (from optuna)\n",
            "  Downloading colorlog-6.7.0-py2.py3-none-any.whl (11 kB)\n",
            "Requirement already satisfied: numpy in /usr/local/lib/python3.10/dist-packages (from optuna) (1.23.5)\n",
            "Requirement already satisfied: packaging>=20.0 in /usr/local/lib/python3.10/dist-packages (from optuna) (23.2)\n",
            "Requirement already satisfied: sqlalchemy>=1.3.0 in /usr/local/lib/python3.10/dist-packages (from optuna) (2.0.23)\n",
            "Requirement already satisfied: tqdm in /usr/local/lib/python3.10/dist-packages (from optuna) (4.66.1)\n",
            "Requirement already satisfied: PyYAML in /usr/local/lib/python3.10/dist-packages (from optuna) (6.0.1)\n",
            "Collecting Mako (from alembic>=1.5.0->optuna)\n",
            "  Downloading Mako-1.3.0-py3-none-any.whl (78 kB)\n",
            "\u001b[2K     \u001b[90m━━━━━━━━━━━━━━━━━━━━━━━━━━━━━━━━━━━━━━━━\u001b[0m \u001b[32m78.6/78.6 kB\u001b[0m \u001b[31m7.4 MB/s\u001b[0m eta \u001b[36m0:00:00\u001b[0m\n",
            "\u001b[?25hRequirement already satisfied: typing-extensions>=4 in /usr/local/lib/python3.10/dist-packages (from alembic>=1.5.0->optuna) (4.5.0)\n",
            "Requirement already satisfied: greenlet!=0.4.17 in /usr/local/lib/python3.10/dist-packages (from sqlalchemy>=1.3.0->optuna) (3.0.1)\n",
            "Requirement already satisfied: MarkupSafe>=0.9.2 in /usr/local/lib/python3.10/dist-packages (from Mako->alembic>=1.5.0->optuna) (2.1.3)\n",
            "Installing collected packages: Mako, colorlog, alembic, optuna\n",
            "Successfully installed Mako-1.3.0 alembic-1.12.1 colorlog-6.7.0 optuna-3.4.0\n"
          ]
        }
      ]
    },
    {
      "cell_type": "code",
      "execution_count": null,
      "metadata": {
        "id": "Oi56B41CBFCx"
      },
      "outputs": [],
      "source": [
        "import pandas as pd\n",
        "import optuna\n",
        "import tensorflow as tf\n",
        "from tensorflow.keras.models import Sequential\n",
        "from tensorflow.keras.layers import Dense\n",
        "from sklearn.datasets import load_iris\n",
        "from sklearn.model_selection import train_test_split"
      ]
    },
    {
      "cell_type": "code",
      "source": [
        "data = pd.read_csv(\"/content/df_clima_Redes.csv\")"
      ],
      "metadata": {
        "id": "Gcv3NS_VLTrD"
      },
      "execution_count": null,
      "outputs": []
    },
    {
      "cell_type": "code",
      "source": [
        "data.columns"
      ],
      "metadata": {
        "id": "e6uBoicSLoNn"
      },
      "execution_count": null,
      "outputs": []
    },
    {
      "cell_type": "code",
      "source": [
        "X = data[['MinTemp', 'MaxTemp', 'Rainfall', 'Evaporation', 'Sunshine',\n",
        "       'WindGustSpeed', 'WindSpeed9am', 'WindSpeed3pm', 'Humidity9am',\n",
        "       'Humidity3pm', 'Pressure9am', 'Pressure3pm', 'Cloud9am', 'Cloud3pm',\n",
        "       'Temp9am', 'Temp3pm', 'DirVien_ENE',\n",
        "       'DirVien_ESE', 'DirVien_N', 'DirVien_NE', 'DirVien_NNE', 'DirVien_NNW',\n",
        "       'DirVien_NW', 'DirVien_S', 'DirVien_SE', 'DirVien_SSE', 'DirVien_SSW',\n",
        "       'DirVien_SW', 'DirVien_W', 'DirVien_WNW', 'DirVien_WSW',\n",
        "       'DirVien9am_ENE', 'DirVien9am_ESE', 'DirVien9am_N', 'DirVien9am_NE',\n",
        "       'DirVien9am_NNE', 'DirVien9am_NNW', 'DirVien9am_NW', 'DirVien9am_S',\n",
        "       'DirVien9am_SE', 'DirVien9am_SSE', 'DirVien9am_SSW', 'DirVien9am_SW',\n",
        "       'DirVien9am_W', 'DirVien9am_WNW', 'DirVien9am_WSW',\n",
        "       'DirVien3am_ENE', 'DirVien3am_ESE', 'DirVien3am_N', 'DirVien3am_NE',\n",
        "       'DirVien3am_NNE', 'DirVien3am_NNW', 'DirVien3am_NW', 'DirVien3am_S',\n",
        "       'DirVien3am_SE', 'DirVien3am_SSE', 'DirVien3am_SSW', 'DirVien3am_SW',\n",
        "       'DirVien3am_W', 'DirVien3am_WNW', 'DirVien3am_WSW',\n",
        "       'LlueveHoy_Yes',\n",
        "       'ciudades_Melbourne', 'ciudades_MelbourneAirport', 'ciudades_Sydney',\n",
        "       'ciudades_SydneyAirport']]\n",
        "y = data[[\"LlueveMan_No\"]]\n",
        "\n",
        "X_train, X_valid, y_train, y_valid = train_test_split(X, y, test_size=0.2, random_state=42)"
      ],
      "metadata": {
        "id": "QY6Dil1EDdpj"
      },
      "execution_count": null,
      "outputs": []
    },
    {
      "cell_type": "code",
      "source": [
        "from imblearn.over_sampling import SMOTE\n",
        "\n",
        "\n",
        "smote = SMOTE(random_state=42)\n",
        "X_train_balanced, y_train_balanced = smote.fit_resample(X_train, y_train)"
      ],
      "metadata": {
        "id": "Af-ZO96nptNV"
      },
      "execution_count": null,
      "outputs": []
    },
    {
      "cell_type": "code",
      "source": [
        "def objective(trial):\n",
        "    num_layers = trial.suggest_int('num_layers', 1, 3)\n",
        "    model = Sequential()\n",
        "\n",
        "    for i in range(num_layers):\n",
        "        num_units = trial.suggest_int(f'n_units_layer_{i}', 4, 128)\n",
        "        model.add(Dense(num_units, activation='relu'))\n",
        "\n",
        "    model.add(Dense(1, activation='sigmoid'))\n",
        "\n",
        "    model.compile(optimizer='adam', loss='binary_crossentropy', metrics=['accuracy', tf.keras.metrics.Precision()])\n",
        "\n",
        "    model.fit(X_train_balanced, y_train_balanced, validation_data=(X_valid, y_valid), epochs=5, batch_size=32, verbose=0)\n",
        "\n",
        "    score = model.evaluate(X_valid, y_valid, verbose=0)\n",
        "    return score[2]\n",
        "\n",
        "study = optuna.create_study(direction='maximize')\n",
        "study.optimize(objective, n_trials=50)\n",
        "\n",
        "best_params = study.best_params\n",
        "print(\"Mejores parámetros encontrados:\", best_params)\n",
        "\n"
      ],
      "metadata": {
        "id": "Kzw1vX5SDY45",
        "colab": {
          "base_uri": "https://localhost:8080/"
        },
        "outputId": "7fd8b8ba-9e26-4afb-cfb7-648cc9c62950"
      },
      "execution_count": null,
      "outputs": [
        {
          "output_type": "stream",
          "name": "stderr",
          "text": [
            "[I 2023-11-19 03:45:52,328] A new study created in memory with name: no-name-6b299221-d232-4d27-b225-d3f54fdb16fc\n",
            "[I 2023-11-19 03:45:58,841] Trial 0 finished with value: 0.8677631616592407 and parameters: {'num_layers': 2, 'n_units_layer_0': 4, 'n_units_layer_1': 49}. Best is trial 0 with value: 0.8677631616592407.\n",
            "[I 2023-11-19 03:46:12,810] Trial 1 finished with value: 0.8599388599395752 and parameters: {'num_layers': 3, 'n_units_layer_0': 64, 'n_units_layer_1': 7, 'n_units_layer_2': 88}. Best is trial 0 with value: 0.8677631616592407.\n",
            "[I 2023-11-19 03:46:19,403] Trial 2 finished with value: 0.9259259104728699 and parameters: {'num_layers': 2, 'n_units_layer_0': 46, 'n_units_layer_1': 117}. Best is trial 2 with value: 0.9259259104728699.\n",
            "[I 2023-11-19 03:46:26,113] Trial 3 finished with value: 0.8606207966804504 and parameters: {'num_layers': 3, 'n_units_layer_0': 27, 'n_units_layer_1': 109, 'n_units_layer_2': 11}. Best is trial 2 with value: 0.9259259104728699.\n",
            "[I 2023-11-19 03:46:32,708] Trial 4 finished with value: 0.8297162055969238 and parameters: {'num_layers': 2, 'n_units_layer_0': 112, 'n_units_layer_1': 41}. Best is trial 2 with value: 0.9259259104728699.\n",
            "[I 2023-11-19 03:46:38,765] Trial 5 finished with value: 0.8993028402328491 and parameters: {'num_layers': 1, 'n_units_layer_0': 6}. Best is trial 2 with value: 0.9259259104728699.\n",
            "[I 2023-11-19 03:46:45,847] Trial 6 finished with value: 0.8533812165260315 and parameters: {'num_layers': 3, 'n_units_layer_0': 26, 'n_units_layer_1': 123, 'n_units_layer_2': 31}. Best is trial 2 with value: 0.9259259104728699.\n",
            "[I 2023-11-19 03:46:52,457] Trial 7 finished with value: 0.969072163105011 and parameters: {'num_layers': 3, 'n_units_layer_0': 86, 'n_units_layer_1': 54, 'n_units_layer_2': 25}. Best is trial 7 with value: 0.969072163105011.\n",
            "[I 2023-11-19 03:46:59,337] Trial 8 finished with value: 0.7957926988601685 and parameters: {'num_layers': 2, 'n_units_layer_0': 23, 'n_units_layer_1': 110}. Best is trial 7 with value: 0.969072163105011.\n",
            "[I 2023-11-19 03:47:05,491] Trial 9 finished with value: 0.9523809552192688 and parameters: {'num_layers': 2, 'n_units_layer_0': 112, 'n_units_layer_1': 118}. Best is trial 7 with value: 0.969072163105011.\n",
            "[I 2023-11-19 03:47:11,578] Trial 10 finished with value: 0.812367856502533 and parameters: {'num_layers': 1, 'n_units_layer_0': 86}. Best is trial 7 with value: 0.969072163105011.\n",
            "[I 2023-11-19 03:47:18,316] Trial 11 finished with value: 0.7923663854598999 and parameters: {'num_layers': 3, 'n_units_layer_0': 128, 'n_units_layer_1': 77, 'n_units_layer_2': 52}. Best is trial 7 with value: 0.969072163105011.\n",
            "[I 2023-11-19 03:47:23,254] Trial 12 finished with value: 0.9455252885818481 and parameters: {'num_layers': 1, 'n_units_layer_0': 93}. Best is trial 7 with value: 0.969072163105011.\n",
            "[I 2023-11-19 03:47:30,363] Trial 13 finished with value: 0.8717948794364929 and parameters: {'num_layers': 2, 'n_units_layer_0': 96, 'n_units_layer_1': 84}. Best is trial 7 with value: 0.969072163105011.\n",
            "[I 2023-11-19 03:47:43,407] Trial 14 finished with value: 0.8915060758590698 and parameters: {'num_layers': 3, 'n_units_layer_0': 74, 'n_units_layer_1': 49, 'n_units_layer_2': 127}. Best is trial 7 with value: 0.969072163105011.\n",
            "[I 2023-11-19 03:47:48,695] Trial 15 finished with value: 0.8058302998542786 and parameters: {'num_layers': 2, 'n_units_layer_0': 113, 'n_units_layer_1': 22}. Best is trial 7 with value: 0.969072163105011.\n",
            "[I 2023-11-19 03:47:56,072] Trial 16 finished with value: 0.8773401975631714 and parameters: {'num_layers': 3, 'n_units_layer_0': 59, 'n_units_layer_1': 90, 'n_units_layer_2': 7}. Best is trial 7 with value: 0.969072163105011.\n",
            "[I 2023-11-19 03:48:02,697] Trial 17 finished with value: 0.9289883375167847 and parameters: {'num_layers': 1, 'n_units_layer_0': 105}. Best is trial 7 with value: 0.969072163105011.\n",
            "[I 2023-11-19 03:48:14,019] Trial 18 finished with value: 0.8030223846435547 and parameters: {'num_layers': 2, 'n_units_layer_0': 76, 'n_units_layer_1': 66}. Best is trial 7 with value: 0.969072163105011.\n",
            "[I 2023-11-19 03:48:20,430] Trial 19 finished with value: 0.9262295365333557 and parameters: {'num_layers': 3, 'n_units_layer_0': 128, 'n_units_layer_1': 96, 'n_units_layer_2': 72}. Best is trial 7 with value: 0.969072163105011.\n",
            "[I 2023-11-19 03:48:26,661] Trial 20 finished with value: 0.8006214499473572 and parameters: {'num_layers': 2, 'n_units_layer_0': 50, 'n_units_layer_1': 65}. Best is trial 7 with value: 0.969072163105011.\n",
            "[I 2023-11-19 03:48:31,592] Trial 21 finished with value: 0.764132559299469 and parameters: {'num_layers': 1, 'n_units_layer_0': 92}. Best is trial 7 with value: 0.969072163105011.\n",
            "[I 2023-11-19 03:48:42,798] Trial 22 finished with value: 0.8215251564979553 and parameters: {'num_layers': 1, 'n_units_layer_0': 103}. Best is trial 7 with value: 0.969072163105011.\n",
            "[I 2023-11-19 03:48:48,903] Trial 23 finished with value: 0.8139658570289612 and parameters: {'num_layers': 1, 'n_units_layer_0': 83}. Best is trial 7 with value: 0.969072163105011.\n",
            "[I 2023-11-19 03:48:55,340] Trial 24 finished with value: 0.8837689161300659 and parameters: {'num_layers': 1, 'n_units_layer_0': 114}. Best is trial 7 with value: 0.969072163105011.\n",
            "[I 2023-11-19 03:49:00,797] Trial 25 finished with value: 0.8176915049552917 and parameters: {'num_layers': 2, 'n_units_layer_0': 98, 'n_units_layer_1': 31}. Best is trial 7 with value: 0.969072163105011.\n",
            "[I 2023-11-19 03:49:07,436] Trial 26 finished with value: 0.8534379005432129 and parameters: {'num_layers': 2, 'n_units_layer_0': 76, 'n_units_layer_1': 61}. Best is trial 7 with value: 0.969072163105011.\n",
            "[I 2023-11-19 03:49:12,328] Trial 27 finished with value: 0.7976313233375549 and parameters: {'num_layers': 1, 'n_units_layer_0': 87}. Best is trial 7 with value: 0.969072163105011.\n",
            "[I 2023-11-19 03:49:18,720] Trial 28 finished with value: 0.8584176301956177 and parameters: {'num_layers': 3, 'n_units_layer_0': 121, 'n_units_layer_1': 76, 'n_units_layer_2': 48}. Best is trial 7 with value: 0.969072163105011.\n",
            "[I 2023-11-19 03:49:25,280] Trial 29 finished with value: 0.7517968416213989 and parameters: {'num_layers': 2, 'n_units_layer_0': 105, 'n_units_layer_1': 100}. Best is trial 7 with value: 0.969072163105011.\n",
            "[I 2023-11-19 03:49:30,395] Trial 30 finished with value: 0.8564621806144714 and parameters: {'num_layers': 1, 'n_units_layer_0': 69}. Best is trial 7 with value: 0.969072163105011.\n",
            "[I 2023-11-19 03:49:36,536] Trial 31 finished with value: 0.938524603843689 and parameters: {'num_layers': 1, 'n_units_layer_0': 105}. Best is trial 7 with value: 0.969072163105011.\n",
            "[I 2023-11-19 03:49:41,439] Trial 32 finished with value: 0.8293496370315552 and parameters: {'num_layers': 1, 'n_units_layer_0': 93}. Best is trial 7 with value: 0.969072163105011.\n",
            "[I 2023-11-19 03:49:47,551] Trial 33 finished with value: 0.8074697256088257 and parameters: {'num_layers': 1, 'n_units_layer_0': 103}. Best is trial 7 with value: 0.969072163105011.\n",
            "[I 2023-11-19 03:49:53,787] Trial 34 finished with value: 0.8921933174133301 and parameters: {'num_layers': 1, 'n_units_layer_0': 116}. Best is trial 7 with value: 0.969072163105011.\n",
            "[I 2023-11-19 03:50:05,262] Trial 35 finished with value: 0.870580792427063 and parameters: {'num_layers': 3, 'n_units_layer_0': 83, 'n_units_layer_1': 128, 'n_units_layer_2': 97}. Best is trial 7 with value: 0.969072163105011.\n",
            "[I 2023-11-19 03:50:10,161] Trial 36 finished with value: 0.8997739553451538 and parameters: {'num_layers': 1, 'n_units_layer_0': 108}. Best is trial 7 with value: 0.969072163105011.\n",
            "[I 2023-11-19 03:50:21,527] Trial 37 finished with value: 0.8031413555145264 and parameters: {'num_layers': 2, 'n_units_layer_0': 121, 'n_units_layer_1': 18}. Best is trial 7 with value: 0.969072163105011.\n",
            "[I 2023-11-19 03:50:26,847] Trial 38 finished with value: 0.830199122428894 and parameters: {'num_layers': 2, 'n_units_layer_0': 65, 'n_units_layer_1': 54}. Best is trial 7 with value: 0.969072163105011.\n",
            "[I 2023-11-19 03:50:38,815] Trial 39 finished with value: 0.9634703397750854 and parameters: {'num_layers': 3, 'n_units_layer_0': 98, 'n_units_layer_1': 34, 'n_units_layer_2': 28}. Best is trial 7 with value: 0.969072163105011.\n",
            "[I 2023-11-19 03:50:45,612] Trial 40 finished with value: 0.8258488774299622 and parameters: {'num_layers': 3, 'n_units_layer_0': 90, 'n_units_layer_1': 38, 'n_units_layer_2': 27}. Best is trial 7 with value: 0.969072163105011.\n",
            "[I 2023-11-19 03:50:52,082] Trial 41 finished with value: 0.8265641927719116 and parameters: {'num_layers': 3, 'n_units_layer_0': 99, 'n_units_layer_1': 36, 'n_units_layer_2': 32}. Best is trial 7 with value: 0.969072163105011.\n",
            "[I 2023-11-19 03:50:58,472] Trial 42 finished with value: 0.9205357432365417 and parameters: {'num_layers': 3, 'n_units_layer_0': 120, 'n_units_layer_1': 25, 'n_units_layer_2': 45}. Best is trial 7 with value: 0.969072163105011.\n",
            "[I 2023-11-19 03:51:05,363] Trial 43 finished with value: 0.7893670797348022 and parameters: {'num_layers': 3, 'n_units_layer_0': 80, 'n_units_layer_1': 11, 'n_units_layer_2': 21}. Best is trial 7 with value: 0.969072163105011.\n",
            "[I 2023-11-19 03:51:11,770] Trial 44 finished with value: 0.9359756112098694 and parameters: {'num_layers': 3, 'n_units_layer_0': 98, 'n_units_layer_1': 48, 'n_units_layer_2': 65}. Best is trial 7 with value: 0.969072163105011.\n",
            "[I 2023-11-19 03:51:18,417] Trial 45 finished with value: 0.0 and parameters: {'num_layers': 3, 'n_units_layer_0': 109, 'n_units_layer_1': 57, 'n_units_layer_2': 7}. Best is trial 7 with value: 0.969072163105011.\n",
            "[I 2023-11-19 03:51:24,640] Trial 46 finished with value: 0.7998962998390198 and parameters: {'num_layers': 2, 'n_units_layer_0': 89, 'n_units_layer_1': 76}. Best is trial 7 with value: 0.969072163105011.\n",
            "[I 2023-11-19 03:51:30,838] Trial 47 finished with value: 0.8903818726539612 and parameters: {'num_layers': 1, 'n_units_layer_0': 59}. Best is trial 7 with value: 0.969072163105011.\n",
            "[I 2023-11-19 03:51:37,091] Trial 48 finished with value: 0.8305555582046509 and parameters: {'num_layers': 2, 'n_units_layer_0': 95, 'n_units_layer_1': 48}. Best is trial 7 with value: 0.969072163105011.\n",
            "[I 2023-11-19 03:51:48,576] Trial 49 finished with value: 0.0 and parameters: {'num_layers': 3, 'n_units_layer_0': 110, 'n_units_layer_1': 5, 'n_units_layer_2': 41}. Best is trial 7 with value: 0.969072163105011.\n"
          ]
        },
        {
          "output_type": "stream",
          "name": "stdout",
          "text": [
            "Mejores parámetros encontrados: {'num_layers': 3, 'n_units_layer_0': 86, 'n_units_layer_1': 54, 'n_units_layer_2': 25}\n"
          ]
        }
      ]
    },
    {
      "cell_type": "code",
      "source": [
        "\n"
      ],
      "metadata": {
        "id": "oEa7Lh5BQ0g2"
      },
      "execution_count": null,
      "outputs": []
    }
  ]
}