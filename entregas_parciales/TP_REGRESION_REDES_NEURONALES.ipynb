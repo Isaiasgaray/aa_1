{
  "nbformat": 4,
  "nbformat_minor": 0,
  "metadata": {
    "colab": {
      "provenance": [],
      "gpuType": "T4"
    },
    "kernelspec": {
      "name": "python3",
      "display_name": "Python 3"
    },
    "language_info": {
      "name": "python"
    },
    "accelerator": "GPU"
  },
  "cells": [
    {
      "cell_type": "code",
      "source": [
        "!pip install optuna"
      ],
      "metadata": {
        "colab": {
          "base_uri": "https://localhost:8080/"
        },
        "id": "cUW4A6Y_eV1l",
        "outputId": "07c78da3-f5ef-47d9-a2eb-5713372ffa38"
      },
      "execution_count": 1,
      "outputs": [
        {
          "output_type": "stream",
          "name": "stdout",
          "text": [
            "Collecting optuna\n",
            "  Downloading optuna-3.4.0-py3-none-any.whl (409 kB)\n",
            "\u001b[2K     \u001b[90m━━━━━━━━━━━━━━━━━━━━━━━━━━━━━━━━━━━━━━━━\u001b[0m \u001b[32m409.6/409.6 kB\u001b[0m \u001b[31m7.4 MB/s\u001b[0m eta \u001b[36m0:00:00\u001b[0m\n",
            "\u001b[?25hCollecting alembic>=1.5.0 (from optuna)\n",
            "  Downloading alembic-1.12.1-py3-none-any.whl (226 kB)\n",
            "\u001b[2K     \u001b[90m━━━━━━━━━━━━━━━━━━━━━━━━━━━━━━━━━━━━━━━━\u001b[0m \u001b[32m226.8/226.8 kB\u001b[0m \u001b[31m11.2 MB/s\u001b[0m eta \u001b[36m0:00:00\u001b[0m\n",
            "\u001b[?25hCollecting colorlog (from optuna)\n",
            "  Downloading colorlog-6.7.0-py2.py3-none-any.whl (11 kB)\n",
            "Requirement already satisfied: numpy in /usr/local/lib/python3.10/dist-packages (from optuna) (1.23.5)\n",
            "Requirement already satisfied: packaging>=20.0 in /usr/local/lib/python3.10/dist-packages (from optuna) (23.2)\n",
            "Requirement already satisfied: sqlalchemy>=1.3.0 in /usr/local/lib/python3.10/dist-packages (from optuna) (2.0.23)\n",
            "Requirement already satisfied: tqdm in /usr/local/lib/python3.10/dist-packages (from optuna) (4.66.1)\n",
            "Requirement already satisfied: PyYAML in /usr/local/lib/python3.10/dist-packages (from optuna) (6.0.1)\n",
            "Collecting Mako (from alembic>=1.5.0->optuna)\n",
            "  Downloading Mako-1.3.0-py3-none-any.whl (78 kB)\n",
            "\u001b[2K     \u001b[90m━━━━━━━━━━━━━━━━━━━━━━━━━━━━━━━━━━━━━━━━\u001b[0m \u001b[32m78.6/78.6 kB\u001b[0m \u001b[31m6.7 MB/s\u001b[0m eta \u001b[36m0:00:00\u001b[0m\n",
            "\u001b[?25hRequirement already satisfied: typing-extensions>=4 in /usr/local/lib/python3.10/dist-packages (from alembic>=1.5.0->optuna) (4.5.0)\n",
            "Requirement already satisfied: greenlet!=0.4.17 in /usr/local/lib/python3.10/dist-packages (from sqlalchemy>=1.3.0->optuna) (3.0.1)\n",
            "Requirement already satisfied: MarkupSafe>=0.9.2 in /usr/local/lib/python3.10/dist-packages (from Mako->alembic>=1.5.0->optuna) (2.1.3)\n",
            "Installing collected packages: Mako, colorlog, alembic, optuna\n",
            "Successfully installed Mako-1.3.0 alembic-1.12.1 colorlog-6.7.0 optuna-3.4.0\n"
          ]
        }
      ]
    },
    {
      "cell_type": "code",
      "source": [
        "import numpy as np\n",
        "import optuna\n",
        "import tensorflow as tf\n",
        "from tensorflow.keras.models import Sequential\n",
        "from tensorflow.keras.layers import Dense\n",
        "from sklearn.datasets import load_iris\n",
        "from sklearn.model_selection import train_test_split\n",
        "import pandas as pd\n",
        "from sklearn.model_selection import train_test_split\n",
        "from sklearn.preprocessing import StandardScaler"
      ],
      "metadata": {
        "id": "YYzhsG75eQ3u"
      },
      "execution_count": 2,
      "outputs": []
    },
    {
      "cell_type": "code",
      "source": [
        "from sklearn.preprocessing import MinMaxScaler, StandardScaler"
      ],
      "metadata": {
        "id": "cVo_GNIKqu9Y"
      },
      "execution_count": 6,
      "outputs": []
    },
    {
      "cell_type": "code",
      "source": [
        "df = pd.read_csv(\"/content/df_clima_Redes.csv\")\n"
      ],
      "metadata": {
        "id": "98xrcCsZeQvV"
      },
      "execution_count": 3,
      "outputs": []
    },
    {
      "cell_type": "code",
      "source": [
        "df.columns"
      ],
      "metadata": {
        "colab": {
          "base_uri": "https://localhost:8080/"
        },
        "id": "Zsy2CezZldg-",
        "outputId": "80b622d3-bbc3-4059-bdfa-311f4d061335"
      },
      "execution_count": 4,
      "outputs": [
        {
          "output_type": "execute_result",
          "data": {
            "text/plain": [
              "Index(['MinTemp', 'MaxTemp', 'Rainfall', 'Evaporation', 'Sunshine',\n",
              "       'WindGustSpeed', 'WindSpeed9am', 'WindSpeed3pm', 'Humidity9am',\n",
              "       'Humidity3pm', 'Pressure9am', 'Pressure3pm', 'Cloud9am', 'Cloud3pm',\n",
              "       'Temp9am', 'Temp3pm', 'RainfallTomorrow', 'DirVien_E', 'DirVien_ENE',\n",
              "       'DirVien_ESE', 'DirVien_N', 'DirVien_NE', 'DirVien_NNE', 'DirVien_NNW',\n",
              "       'DirVien_NW', 'DirVien_S', 'DirVien_SE', 'DirVien_SSE', 'DirVien_SSW',\n",
              "       'DirVien_SW', 'DirVien_W', 'DirVien_WNW', 'DirVien_WSW', 'DirVien9am_E',\n",
              "       'DirVien9am_ENE', 'DirVien9am_ESE', 'DirVien9am_N', 'DirVien9am_NE',\n",
              "       'DirVien9am_NNE', 'DirVien9am_NNW', 'DirVien9am_NW', 'DirVien9am_S',\n",
              "       'DirVien9am_SE', 'DirVien9am_SSE', 'DirVien9am_SSW', 'DirVien9am_SW',\n",
              "       'DirVien9am_W', 'DirVien9am_WNW', 'DirVien9am_WSW', 'DirVien3am_E',\n",
              "       'DirVien3am_ENE', 'DirVien3am_ESE', 'DirVien3am_N', 'DirVien3am_NE',\n",
              "       'DirVien3am_NNE', 'DirVien3am_NNW', 'DirVien3am_NW', 'DirVien3am_S',\n",
              "       'DirVien3am_SE', 'DirVien3am_SSE', 'DirVien3am_SSW', 'DirVien3am_SW',\n",
              "       'DirVien3am_W', 'DirVien3am_WNW', 'DirVien3am_WSW', 'LlueveHoy_No',\n",
              "       'LlueveHoy_Yes', 'LlueveMan_No', 'LlueveMan_Yes', 'ciudades_Canberra',\n",
              "       'ciudades_Melbourne', 'ciudades_MelbourneAirport', 'ciudades_Sydney',\n",
              "       'ciudades_SydneyAirport'],\n",
              "      dtype='object')"
            ]
          },
          "metadata": {},
          "execution_count": 4
        }
      ]
    },
    {
      "cell_type": "code",
      "source": [
        "df.head(5)"
      ],
      "metadata": {
        "id": "0VO51ce4qkTZ"
      },
      "execution_count": null,
      "outputs": []
    },
    {
      "cell_type": "code",
      "source": [
        "scaler = MinMaxScaler()"
      ],
      "metadata": {
        "id": "hz8kGriuqxog"
      },
      "execution_count": 7,
      "outputs": []
    },
    {
      "cell_type": "code",
      "source": [
        "columnas_nor = ['MinTemp', 'MaxTemp', 'Rainfall', 'Evaporation', 'Sunshine',\n",
        "       'WindGustSpeed', 'WindSpeed9am', 'WindSpeed3pm', 'Humidity9am',\n",
        "       'Humidity3pm', 'Pressure9am', 'Pressure3pm', 'Cloud9am', 'Cloud3pm',\n",
        "       'Temp9am', 'Temp3pm']\n",
        "df[columnas_nor] = scaler.fit_transform(df[columnas_nor])"
      ],
      "metadata": {
        "id": "oytdHcNRq2yP"
      },
      "execution_count": 9,
      "outputs": []
    },
    {
      "cell_type": "code",
      "source": [
        "df.head(5)"
      ],
      "metadata": {
        "id": "4KCatSnsq2vQ"
      },
      "execution_count": null,
      "outputs": []
    },
    {
      "cell_type": "code",
      "source": [],
      "metadata": {
        "id": "5rThRs9tq2lY"
      },
      "execution_count": null,
      "outputs": []
    },
    {
      "cell_type": "code",
      "source": [
        "X = df[['MinTemp', 'MaxTemp', 'Rainfall', 'Evaporation', 'Sunshine',\n",
        "       'WindGustSpeed', 'WindSpeed9am', 'WindSpeed3pm', 'Humidity9am',\n",
        "       'Humidity3pm', 'Pressure9am', 'Pressure3pm', 'Cloud9am', 'Cloud3pm',\n",
        "       'Temp9am', 'Temp3pm', 'DirVien_ENE',\n",
        "       'DirVien_ESE', 'DirVien_N', 'DirVien_NE', 'DirVien_NNE', 'DirVien_NNW',\n",
        "       'DirVien_NW', 'DirVien_S', 'DirVien_SE', 'DirVien_SSE', 'DirVien_SSW',\n",
        "       'DirVien_SW', 'DirVien_W', 'DirVien_WNW', 'DirVien_WSW',\n",
        "       'DirVien9am_ENE', 'DirVien9am_ESE', 'DirVien9am_N', 'DirVien9am_NE',\n",
        "       'DirVien9am_NNE', 'DirVien9am_NNW', 'DirVien9am_NW', 'DirVien9am_S',\n",
        "       'DirVien9am_SE', 'DirVien9am_SSE', 'DirVien9am_SSW', 'DirVien9am_SW',\n",
        "       'DirVien9am_W', 'DirVien9am_WNW', 'DirVien9am_WSW',\n",
        "       'DirVien3am_ENE', 'DirVien3am_ESE', 'DirVien3am_N', 'DirVien3am_NE',\n",
        "       'DirVien3am_NNE', 'DirVien3am_NNW', 'DirVien3am_NW', 'DirVien3am_S',\n",
        "       'DirVien3am_SE', 'DirVien3am_SSE', 'DirVien3am_SSW',\n",
        "       'LlueveHoy_Yes', 'ciudades_Canberra',\n",
        "       'ciudades_Melbourne', 'ciudades_MelbourneAirport', 'ciudades_Sydney',\n",
        "       'ciudades_SydneyAirport'\n",
        "       ]]\n",
        "y = df['RainfallTomorrow']\n",
        "X_train, X_valid, y_train, y_valid = train_test_split(X, y, test_size=0.2, random_state=42)"
      ],
      "metadata": {
        "id": "-X2orcW7eQpW"
      },
      "execution_count": 11,
      "outputs": []
    },
    {
      "cell_type": "code",
      "execution_count": null,
      "metadata": {
        "id": "7soMBEgdc-oI"
      },
      "outputs": [],
      "source": []
    },
    {
      "cell_type": "markdown",
      "source": [],
      "metadata": {
        "id": "D1yybgQJgLeU"
      }
    },
    {
      "cell_type": "code",
      "source": [
        "def create_model(trial):\n",
        "    model = Sequential()\n",
        "    num_layers = trial.suggest_int('num_layers', 1, 5)\n",
        "\n",
        "    for i in range(num_layers):\n",
        "        num_units = trial.suggest_int(f'n_units_layer_{i}', 4, 128)\n",
        "        model.add(Dense(num_units, activation=\"relu\"))\n",
        "\n",
        "    model.add(Dense(1))\n",
        "\n",
        "\n",
        "    def r2_metric(y_true, y_pred):\n",
        "        SS_res = tf.reduce_sum(tf.square(y_true - y_pred))\n",
        "        SS_tot = tf.reduce_sum(tf.square(y_true - tf.reduce_mean(y_true)))\n",
        "        return 1 - SS_res / (SS_tot + tf.keras.backend.epsilon())\n",
        "\n",
        "    model.compile(optimizer='adam', loss='mean_squared_error', metrics=[r2_metric])\n",
        "\n",
        "    return model\n",
        "\n",
        "\n",
        "def objective(trial):\n",
        "\n",
        "    model = create_model(trial)\n",
        "    model.fit(X_train, y_train, validation_data=(X_valid, y_valid), epochs=5, batch_size=32, verbose=0)\n",
        "    _, r2 = model.evaluate(X_valid, y_valid, verbose=0)\n",
        "\n",
        "    return r2\n",
        "\n",
        "study = optuna.create_study(direction='maximize')\n",
        "study.optimize(objective, n_trials=100)\n",
        "\n",
        "best_params = study.best_params\n",
        "print(\"Mejores parámetros encontrados:\", best_params)\n",
        "\n",
        "best_model = create_model(study.best_trial)"
      ],
      "metadata": {
        "id": "cqyy74cyicOC"
      },
      "execution_count": null,
      "outputs": []
    }
  ]
}