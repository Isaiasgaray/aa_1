{
 "cells": [
  {
   "cell_type": "code",
   "execution_count": 2,
   "metadata": {},
   "outputs": [],
   "source": [
    "import numpy as np\n",
    "import pandas as pd\n",
    "import matplotlib.pyplot as plt\n",
    "import seaborn as sns\n",
    "from sklearn.datasets import make_classification\n",
    "from sklearn.model_selection import train_test_split\n",
    "from sklearn.linear_model import LogisticRegression\n",
    "from sklearn.ensemble import RandomForestClassifier\n",
    "from sklearn.metrics import classification_report, confusion_matrix\n",
    "from imblearn.over_sampling import RandomOverSampler, SMOTE\n",
    "from imblearn.under_sampling import RandomUnderSampler, NearMiss"
   ]
  },
  {
   "cell_type": "code",
   "execution_count": 3,
   "metadata": {},
   "outputs": [],
   "source": [
    "import numpy as np\n",
    "import matplotlib.pyplot as plt\n",
    "from sklearn.datasets import make_classification\n",
    "from sklearn.model_selection import train_test_split\n",
    "from sklearn.linear_model import LogisticRegression\n",
    "from sklearn.metrics import roc_curve, roc_auc_score, auc\n",
    "from sklearn.ensemble import RandomForestClassifier\n",
    "from sklearn.preprocessing import label_binarize\n",
    "from sklearn.multiclass import OneVsRestClassifier"
   ]
  },
  {
   "cell_type": "code",
   "execution_count": 4,
   "metadata": {},
   "outputs": [],
   "source": [
    "df = pd.read_csv('datasets/weatherAUS.csv', index_col=0)"
   ]
  },
  {
   "cell_type": "code",
   "execution_count": 5,
   "metadata": {},
   "outputs": [],
   "source": [
    "ciudades = ['Sydney',\n",
    "            'SydneyAirport',\n",
    "            'Canberra',\n",
    "            'Melbourne',\n",
    "            'MelbourneAirport']"
   ]
  },
  {
   "cell_type": "code",
   "execution_count": 6,
   "metadata": {},
   "outputs": [],
   "source": [
    "ciudades_df = df[df['Location'].isin(ciudades)]\\\n",
    "                .copy()\\\n",
    "                .reset_index(drop=True)"
   ]
  },
  {
   "cell_type": "code",
   "execution_count": 7,
   "metadata": {},
   "outputs": [],
   "source": [
    "columnas_a_eliminar = ['Date',\"Pressure3pm\", \"WindGustDir\", 'Temp9am', 'MinTemp', 'WindSpeed3pm', 'WindSpeed9am', 'WindDir9am', 'WindDir3pm' ]\n",
    "df_sin_columnas = ciudades_df.drop(columns=columnas_a_eliminar)\n"
   ]
  },
  {
   "cell_type": "code",
   "execution_count": 8,
   "metadata": {},
   "outputs": [],
   "source": [
    "promedio_Pres9am = df_sin_columnas[\"Pressure9am\"].mean()"
   ]
  },
  {
   "cell_type": "code",
   "execution_count": 9,
   "metadata": {},
   "outputs": [],
   "source": [
    "df_sin_columnas[\"Pressure9am\"].fillna(promedio_Pres9am, inplace=True)"
   ]
  },
  {
   "cell_type": "code",
   "execution_count": 10,
   "metadata": {},
   "outputs": [
    {
     "data": {
      "text/plain": [
       "Index(['Location', 'MaxTemp', 'Rainfall', 'Evaporation', 'Sunshine',\n",
       "       'WindGustSpeed', 'Humidity9am', 'Humidity3pm', 'Pressure9am',\n",
       "       'Cloud9am', 'Cloud3pm', 'Temp3pm', 'RainToday', 'RainTomorrow',\n",
       "       'RainfallTomorrow'],\n",
       "      dtype='object')"
      ]
     },
     "execution_count": 10,
     "metadata": {},
     "output_type": "execute_result"
    }
   ],
   "source": [
    "df_sin_columnas.columns"
   ]
  },
  {
   "cell_type": "code",
   "execution_count": 11,
   "metadata": {},
   "outputs": [],
   "source": [
    "df_sin_columnas['MaxTemp'].interpolate(method='linear', inplace=True)"
   ]
  },
  {
   "cell_type": "code",
   "execution_count": 12,
   "metadata": {},
   "outputs": [],
   "source": [
    "df_sin_columnas['Evaporation']\\\n",
    "    .fillna(\n",
    "        df_sin_columnas['Evaporation'].mean(),\n",
    "        inplace=True)"
   ]
  },
  {
   "cell_type": "code",
   "execution_count": 13,
   "metadata": {},
   "outputs": [],
   "source": [
    "df_sin_columnas['Sunshine']\\\n",
    "    .fillna(\n",
    "        df_sin_columnas['Sunshine'].median(),\n",
    "        inplace=True)"
   ]
  },
  {
   "cell_type": "code",
   "execution_count": 14,
   "metadata": {},
   "outputs": [],
   "source": [
    "df_sin_columnas['WindGustSpeed']\\\n",
    "    .fillna(\n",
    "        df_sin_columnas['WindGustSpeed'].median(),\n",
    "        inplace=True)"
   ]
  },
  {
   "cell_type": "code",
   "execution_count": 15,
   "metadata": {},
   "outputs": [],
   "source": [
    "df_sin_columnas['Humidity9am']\\\n",
    "    .fillna(\n",
    "        df_sin_columnas['Humidity9am'].mean(),\n",
    "        inplace=True)"
   ]
  },
  {
   "cell_type": "code",
   "execution_count": 16,
   "metadata": {},
   "outputs": [],
   "source": [
    "df_sin_columnas['Humidity3pm']\\\n",
    "    .fillna(\n",
    "        df_sin_columnas['Humidity3pm'].mean(),\n",
    "        inplace=True)"
   ]
  },
  {
   "cell_type": "code",
   "execution_count": 17,
   "metadata": {},
   "outputs": [],
   "source": [
    "df_sin_columnas['Pressure9am']\\\n",
    "    .fillna(\n",
    "        df_sin_columnas['Pressure9am'].mean(),\n",
    "        inplace=True)"
   ]
  },
  {
   "cell_type": "code",
   "execution_count": 18,
   "metadata": {},
   "outputs": [],
   "source": [
    "df_sin_columnas['Cloud9am']\\\n",
    "    .fillna(\n",
    "        df_sin_columnas['Cloud9am'].median(),\n",
    "        inplace=True)"
   ]
  },
  {
   "cell_type": "code",
   "execution_count": 19,
   "metadata": {},
   "outputs": [],
   "source": [
    "df_sin_columnas['Cloud3pm']\\\n",
    "    .fillna(\n",
    "        df_sin_columnas['Cloud3pm'].median(),\n",
    "        inplace=True)"
   ]
  },
  {
   "cell_type": "code",
   "execution_count": 20,
   "metadata": {},
   "outputs": [],
   "source": [
    "df_sin_columnas['Temp3pm']\\\n",
    "    .fillna(\n",
    "        df_sin_columnas['Temp3pm'].mean(),\n",
    "        inplace=True)"
   ]
  },
  {
   "cell_type": "code",
   "execution_count": 21,
   "metadata": {},
   "outputs": [],
   "source": [
    "df_sin_nan = df_sin_columnas.dropna()\n",
    "    "
   ]
  },
  {
   "cell_type": "code",
   "execution_count": 22,
   "metadata": {},
   "outputs": [],
   "source": [
    "df_nom = pd.get_dummies(df_sin_nan, prefix=[\"LlueveHoy\", \"LlueveMan\", \"ciudades\"], columns=[\"RainToday\", \"RainTomorrow\", \"Location\"])"
   ]
  },
  {
   "cell_type": "code",
   "execution_count": 23,
   "metadata": {},
   "outputs": [],
   "source": [
    "# Definir las variables independientes y la dependiente\n",
    "X = df_nom[['MaxTemp', 'Rainfall', 'Evaporation', 'Sunshine',\n",
    "        'WindGustSpeed',\n",
    "       'Humidity9am', 'Humidity3pm', 'Pressure9am',  'Cloud9am',\n",
    "       'Cloud3pm', 'Temp3pm',\n",
    "       'LlueveHoy_Yes'\n",
    "       ]]\n",
    "Y = df_nom['LlueveMan_Yes']\n",
    "\n",
    "# Dividir los datos en conjunto de entrenamiento y de prueba\n",
    "X_entreno, X_testeo, Y_entreno, Y_testeo = train_test_split(X, Y, test_size=0.20, random_state= 1)"
   ]
  },
  {
   "cell_type": "code",
   "execution_count": 24,
   "metadata": {},
   "outputs": [
    {
     "name": "stdout",
     "output_type": "stream",
     "text": [
      "Resultados con regresión logística\n",
      "\n",
      "              precision    recall  f1-score   support\n",
      "\n",
      "       False       0.91      0.78      0.84      2344\n",
      "        True       0.49      0.74      0.59       664\n",
      "\n",
      "    accuracy                           0.77      3008\n",
      "   macro avg       0.70      0.76      0.71      3008\n",
      "weighted avg       0.82      0.77      0.78      3008\n",
      "\n",
      "[[1820  524]\n",
      " [ 170  494]]\n"
     ]
    },
    {
     "name": "stderr",
     "output_type": "stream",
     "text": [
      "c:\\Users\\edus_\\AppData\\Local\\Programs\\Python\\Python312\\Lib\\site-packages\\sklearn\\linear_model\\_logistic.py:460: ConvergenceWarning: lbfgs failed to converge (status=1):\n",
      "STOP: TOTAL NO. of ITERATIONS REACHED LIMIT.\n",
      "\n",
      "Increase the number of iterations (max_iter) or scale the data as shown in:\n",
      "    https://scikit-learn.org/stable/modules/preprocessing.html\n",
      "Please also refer to the documentation for alternative solver options:\n",
      "    https://scikit-learn.org/stable/modules/linear_model.html#logistic-regression\n",
      "  n_iter_i = _check_optimize_result(\n"
     ]
    }
   ],
   "source": [
    "#X_train, X_test, Y_train, Y_test = train_test_split(X, Y, test_size=0.20, random_state= 1)\n",
    "logistic_model = LogisticRegression(random_state=42, class_weight='balanced')#class_weight='balanced': aca balanceo las clases esto lo q hace en este ejemplo es multiplicar por 9 el COSTO de la clase minoritaria.\n",
    "logistic_model.fit(X_entreno, Y_entreno)\n",
    "y_pred = logistic_model.predict(X_testeo)\n",
    "\n",
    "print(\"Resultados con regresión logística\\n\")\n",
    "print(classification_report(Y_testeo, y_pred))\n",
    "print(confusion_matrix(Y_testeo, y_pred))\n"
   ]
  },
  {
   "cell_type": "code",
   "execution_count": 25,
   "metadata": {},
   "outputs": [],
   "source": [
    "# Obtengo las probabilidades de predicción del modelo\n",
    "y_probs = logistic_model.predict_proba(X_testeo)[:,1]\n",
    "\n",
    "# Calculo la ROC y el AUC\n",
    "fpr, tpr, thresholds = roc_curve(Y_testeo, y_probs)\n",
    "roc_auc = auc(fpr, tpr)"
   ]
  },
  {
   "cell_type": "code",
   "execution_count": 26,
   "metadata": {},
   "outputs": [
    {
     "data": {
      "image/png": "[encoded data removed]",
      "text/plain": [
       "<Figure size 600x400 with 1 Axes>"
      ]
     },
     "metadata": {},
     "output_type": "display_data"
    }
   ],
   "source": [
    "# Grafico la curva ROC\n",
    "plt.figure(figsize=(6, 4))\n",
    "plt.plot(fpr, tpr, color='darkorange', lw=2, label='Curva ROC (AUC = %0.2f)' % roc_auc)\n",
    "plt.plot([0, 1], [0, 1], color='navy', lw=2, linestyle='--')\n",
    "plt.xlim([0.0, 1.0])\n",
    "plt.ylim([0.0, 1.05])\n",
    "plt.xlabel('Tasa de Falsos Positivos (FPR)')\n",
    "plt.ylabel('Tasa de Verdaderos Positivos (TPR)')\n",
    "plt.title('Curva ROC')\n",
    "plt.legend(loc=\"lower right\")\n",
    "plt.show()"
   ]
  },
  {
   "cell_type": "code",
   "execution_count": 27,
   "metadata": {},
   "outputs": [
    {
     "data": {
      "text/plain": [
       "0.8365263528516798"
      ]
     },
     "execution_count": 27,
     "metadata": {},
     "output_type": "execute_result"
    }
   ],
   "source": [
    "roc_auc"
   ]
  },
  {
   "cell_type": "code",
   "execution_count": 28,
   "metadata": {},
   "outputs": [
    {
     "data": {
      "text/plain": [
       "(array([0.00000000e+00, 0.00000000e+00, 0.00000000e+00, 4.26621160e-04,\n",
       "        4.26621160e-04, 8.53242321e-04, 8.53242321e-04, 1.27986348e-03,\n",
       "        1.27986348e-03, 1.70648464e-03, 1.70648464e-03, 2.13310580e-03,\n",
       "        2.13310580e-03, 2.55972696e-03, 2.55972696e-03, 2.98634812e-03,\n",
       "        2.98634812e-03, 3.83959044e-03, 3.83959044e-03, 4.26621160e-03,\n",
       "        4.26621160e-03, 4.69283276e-03, 4.69283276e-03, 5.11945392e-03,\n",
       "        5.11945392e-03, 5.54607509e-03, 5.54607509e-03, 5.97269625e-03,\n",
       "        5.97269625e-03, 7.25255973e-03, 7.25255973e-03, 7.67918089e-03,\n",
       "        7.67918089e-03, 8.10580205e-03, 8.10580205e-03, 8.53242321e-03,\n",
       "        8.53242321e-03, 9.38566553e-03, 9.38566553e-03, 9.81228669e-03,\n",
       "        9.81228669e-03, 1.02389078e-02, 1.02389078e-02, 1.10921502e-02,\n",
       "        1.10921502e-02, 1.15187713e-02, 1.15187713e-02, 1.23720137e-02,\n",
       "        1.23720137e-02, 1.32252560e-02, 1.32252560e-02, 1.36518771e-02,\n",
       "        1.36518771e-02, 1.49317406e-02, 1.49317406e-02, 1.53583618e-02,\n",
       "        1.53583618e-02, 1.57849829e-02, 1.57849829e-02, 1.62116041e-02,\n",
       "        1.62116041e-02, 1.70648464e-02, 1.70648464e-02, 1.74914676e-02,\n",
       "        1.74914676e-02, 1.79180887e-02, 1.79180887e-02, 1.87713311e-02,\n",
       "        1.87713311e-02, 1.91979522e-02, 1.91979522e-02, 1.96245734e-02,\n",
       "        1.96245734e-02, 2.00511945e-02, 2.00511945e-02, 2.17576792e-02,\n",
       "        2.17576792e-02, 2.21843003e-02, 2.21843003e-02, 2.34641638e-02,\n",
       "        2.34641638e-02, 2.51706485e-02, 2.51706485e-02, 2.64505119e-02,\n",
       "        2.64505119e-02, 2.81569966e-02, 2.81569966e-02, 2.85836177e-02,\n",
       "        2.85836177e-02, 2.94368601e-02, 2.94368601e-02, 2.98634812e-02,\n",
       "        2.98634812e-02, 3.15699659e-02, 3.15699659e-02, 3.19965870e-02,\n",
       "        3.19965870e-02, 3.24232082e-02, 3.24232082e-02, 3.28498294e-02,\n",
       "        3.28498294e-02, 3.32764505e-02, 3.32764505e-02, 3.41296928e-02,\n",
       "        3.41296928e-02, 3.45563140e-02, 3.45563140e-02, 3.54095563e-02,\n",
       "        3.54095563e-02, 3.58361775e-02, 3.58361775e-02, 3.71160410e-02,\n",
       "        3.71160410e-02, 3.75426621e-02, 3.75426621e-02, 3.79692833e-02,\n",
       "        3.79692833e-02, 3.88225256e-02, 3.88225256e-02, 3.96757679e-02,\n",
       "        3.96757679e-02, 4.05290102e-02, 4.05290102e-02, 4.13822526e-02,\n",
       "        4.13822526e-02, 4.18088737e-02, 4.18088737e-02, 4.22354949e-02,\n",
       "        4.22354949e-02, 4.52218430e-02, 4.52218430e-02, 4.65017065e-02,\n",
       "        4.65017065e-02, 4.69283276e-02, 4.69283276e-02, 4.73549488e-02,\n",
       "        4.73549488e-02, 4.77815700e-02, 4.77815700e-02, 4.94880546e-02,\n",
       "        4.94880546e-02, 5.03412969e-02, 5.03412969e-02, 5.07679181e-02,\n",
       "        5.07679181e-02, 5.11945392e-02, 5.11945392e-02, 5.33276451e-02,\n",
       "        5.33276451e-02, 5.54607509e-02, 5.54607509e-02, 5.58873720e-02,\n",
       "        5.58873720e-02, 5.67406143e-02, 5.67406143e-02, 5.71672355e-02,\n",
       "        5.71672355e-02, 5.80204778e-02, 5.80204778e-02, 5.84470990e-02,\n",
       "        5.84470990e-02, 5.93003413e-02, 5.93003413e-02, 6.01535836e-02,\n",
       "        6.01535836e-02, 6.05802048e-02, 6.05802048e-02, 6.10068259e-02,\n",
       "        6.10068259e-02, 6.18600683e-02, 6.18600683e-02, 6.31399317e-02,\n",
       "        6.31399317e-02, 6.39931741e-02, 6.39931741e-02, 6.44197952e-02,\n",
       "        6.44197952e-02, 6.52730375e-02, 6.52730375e-02, 6.65529010e-02,\n",
       "        6.65529010e-02, 6.74061433e-02, 6.74061433e-02, 6.78327645e-02,\n",
       "        6.78327645e-02, 6.82593857e-02, 6.82593857e-02, 6.86860068e-02,\n",
       "        6.86860068e-02, 6.95392491e-02, 6.95392491e-02, 7.12457338e-02,\n",
       "        7.12457338e-02, 7.20989761e-02, 7.20989761e-02, 7.33788396e-02,\n",
       "        7.33788396e-02, 7.38054608e-02, 7.38054608e-02, 7.55119454e-02,\n",
       "        7.55119454e-02, 7.59385666e-02, 7.59385666e-02, 7.63651877e-02,\n",
       "        7.63651877e-02, 7.67918089e-02, 7.67918089e-02, 7.76450512e-02,\n",
       "        7.76450512e-02, 8.06313993e-02, 8.06313993e-02, 8.23378840e-02,\n",
       "        8.23378840e-02, 8.27645051e-02, 8.27645051e-02, 8.40443686e-02,\n",
       "        8.40443686e-02, 8.61774744e-02, 8.61774744e-02, 8.70307167e-02,\n",
       "        8.70307167e-02, 8.78839590e-02, 8.78839590e-02, 8.83105802e-02,\n",
       "        8.83105802e-02, 9.34300341e-02, 9.34300341e-02, 9.47098976e-02,\n",
       "        9.47098976e-02, 9.76962457e-02, 9.76962457e-02, 9.94027304e-02,\n",
       "        9.94027304e-02, 9.98293515e-02, 9.98293515e-02, 1.00255973e-01,\n",
       "        1.00255973e-01, 1.02815700e-01, 1.02815700e-01, 1.03242321e-01,\n",
       "        1.03242321e-01, 1.04522184e-01, 1.04522184e-01, 1.05375427e-01,\n",
       "        1.05375427e-01, 1.06228669e-01, 1.06228669e-01, 1.09641638e-01,\n",
       "        1.09641638e-01, 1.11348123e-01, 1.11348123e-01, 1.11774744e-01,\n",
       "        1.11774744e-01, 1.13907850e-01, 1.13907850e-01, 1.14334471e-01,\n",
       "        1.14334471e-01, 1.14761092e-01, 1.14761092e-01, 1.15187713e-01,\n",
       "        1.15187713e-01, 1.17320819e-01, 1.17320819e-01, 1.17747440e-01,\n",
       "        1.17747440e-01, 1.18600683e-01, 1.18600683e-01, 1.19453925e-01,\n",
       "        1.19453925e-01, 1.19880546e-01, 1.19880546e-01, 1.20733788e-01,\n",
       "        1.20733788e-01, 1.21160410e-01, 1.21160410e-01, 1.21587031e-01,\n",
       "        1.21587031e-01, 1.24573379e-01, 1.24573379e-01, 1.25426621e-01,\n",
       "        1.25426621e-01, 1.26706485e-01, 1.26706485e-01, 1.27559727e-01,\n",
       "        1.27559727e-01, 1.30119454e-01, 1.30119454e-01, 1.31399317e-01,\n",
       "        1.31399317e-01, 1.32252560e-01, 1.32252560e-01, 1.40358362e-01,\n",
       "        1.40358362e-01, 1.40784983e-01, 1.40784983e-01, 1.41211604e-01,\n",
       "        1.41211604e-01, 1.42491468e-01, 1.42491468e-01, 1.43344710e-01,\n",
       "        1.43344710e-01, 1.45051195e-01, 1.45051195e-01, 1.46757679e-01,\n",
       "        1.46757679e-01, 1.49317406e-01, 1.49317406e-01, 1.50597270e-01,\n",
       "        1.50597270e-01, 1.51877133e-01, 1.51877133e-01, 1.53156997e-01,\n",
       "        1.53156997e-01, 1.53583618e-01, 1.53583618e-01, 1.54436860e-01,\n",
       "        1.54436860e-01, 1.55290102e-01, 1.55290102e-01, 1.59129693e-01,\n",
       "        1.59129693e-01, 1.60409556e-01, 1.60409556e-01, 1.61689420e-01,\n",
       "        1.61689420e-01, 1.62116041e-01, 1.62116041e-01, 1.64249147e-01,\n",
       "        1.64249147e-01, 1.65102389e-01, 1.65102389e-01, 1.67662116e-01,\n",
       "        1.67662116e-01, 1.68941980e-01, 1.68941980e-01, 1.69795222e-01,\n",
       "        1.69795222e-01, 1.70221843e-01, 1.70221843e-01, 1.71928328e-01,\n",
       "        1.71928328e-01, 1.72354949e-01, 1.72354949e-01, 1.72781570e-01,\n",
       "        1.72781570e-01, 1.73208191e-01, 1.73208191e-01, 1.75341297e-01,\n",
       "        1.75341297e-01, 1.77901024e-01, 1.77901024e-01, 1.80034130e-01,\n",
       "        1.80034130e-01, 1.80887372e-01, 1.80887372e-01, 1.81313993e-01,\n",
       "        1.81313993e-01, 1.84726962e-01, 1.84726962e-01, 1.86006826e-01,\n",
       "        1.86006826e-01, 1.87713311e-01, 1.87713311e-01, 1.89419795e-01,\n",
       "        1.89419795e-01, 1.90273038e-01, 1.90273038e-01, 1.91979522e-01,\n",
       "        1.91979522e-01, 1.93686007e-01, 1.93686007e-01, 1.95819113e-01,\n",
       "        1.95819113e-01, 1.98805461e-01, 1.98805461e-01, 1.99658703e-01,\n",
       "        1.99658703e-01, 2.00511945e-01, 2.00511945e-01, 2.03924915e-01,\n",
       "        2.03924915e-01, 2.04351536e-01, 2.04351536e-01, 2.04778157e-01,\n",
       "        2.04778157e-01, 2.05204778e-01, 2.05204778e-01, 2.06058020e-01,\n",
       "        2.06058020e-01, 2.06911263e-01, 2.06911263e-01, 2.07337884e-01,\n",
       "        2.07337884e-01, 2.08191126e-01, 2.08191126e-01, 2.17576792e-01,\n",
       "        2.17576792e-01, 2.19283276e-01, 2.19283276e-01, 2.20136519e-01,\n",
       "        2.20136519e-01, 2.25255973e-01, 2.25255973e-01, 2.31228669e-01,\n",
       "        2.31228669e-01, 2.32508532e-01, 2.32508532e-01, 2.34641638e-01,\n",
       "        2.34641638e-01, 2.37627986e-01, 2.37627986e-01, 2.42320819e-01,\n",
       "        2.42320819e-01, 2.43174061e-01, 2.43174061e-01, 2.45307167e-01,\n",
       "        2.45307167e-01, 2.45733788e-01, 2.45733788e-01, 2.47866894e-01,\n",
       "        2.47866894e-01, 2.49146758e-01, 2.49146758e-01, 2.53839590e-01,\n",
       "        2.53839590e-01, 2.61518771e-01, 2.61518771e-01, 2.61945392e-01,\n",
       "        2.61945392e-01, 2.62798635e-01, 2.62798635e-01, 2.64931741e-01,\n",
       "        2.64931741e-01, 2.65358362e-01, 2.65358362e-01, 2.66211604e-01,\n",
       "        2.66211604e-01, 2.66638225e-01, 2.66638225e-01, 2.67064846e-01,\n",
       "        2.67064846e-01, 2.67491468e-01, 2.67491468e-01, 2.72184300e-01,\n",
       "        2.72184300e-01, 2.77730375e-01, 2.77730375e-01, 2.88395904e-01,\n",
       "        2.88395904e-01, 2.90955631e-01, 2.90955631e-01, 2.94368601e-01,\n",
       "        2.94368601e-01, 2.98208191e-01, 2.98208191e-01, 2.99488055e-01,\n",
       "        2.99488055e-01, 2.99914676e-01, 2.99914676e-01, 3.01194539e-01,\n",
       "        3.01194539e-01, 3.04180887e-01, 3.04180887e-01, 3.06313993e-01,\n",
       "        3.06313993e-01, 3.07593857e-01, 3.07593857e-01, 3.08447099e-01,\n",
       "        3.08447099e-01, 3.08873720e-01, 3.08873720e-01, 3.09726962e-01,\n",
       "        3.09726962e-01, 3.13566553e-01, 3.13566553e-01, 3.14846416e-01,\n",
       "        3.14846416e-01, 3.16552901e-01, 3.16552901e-01, 3.21672355e-01,\n",
       "        3.21672355e-01, 3.22952218e-01, 3.22952218e-01, 3.24658703e-01,\n",
       "        3.24658703e-01, 3.28924915e-01, 3.28924915e-01, 3.29778157e-01,\n",
       "        3.29778157e-01, 3.33191126e-01, 3.33191126e-01, 3.39163823e-01,\n",
       "        3.39163823e-01, 3.40017065e-01, 3.40017065e-01, 3.47696246e-01,\n",
       "        3.47696246e-01, 3.48976109e-01, 3.48976109e-01, 3.49829352e-01,\n",
       "        3.49829352e-01, 3.50255973e-01, 3.50255973e-01, 3.53668942e-01,\n",
       "        3.53668942e-01, 3.57935154e-01, 3.57935154e-01, 3.59641638e-01,\n",
       "        3.59641638e-01, 3.63054608e-01, 3.63054608e-01, 3.63907850e-01,\n",
       "        3.63907850e-01, 3.64761092e-01, 3.64761092e-01, 3.66040956e-01,\n",
       "        3.66040956e-01, 3.67320819e-01, 3.67320819e-01, 3.69453925e-01,\n",
       "        3.69453925e-01, 3.69880546e-01, 3.69880546e-01, 3.72866894e-01,\n",
       "        3.72866894e-01, 3.76279863e-01, 3.76279863e-01, 3.77133106e-01,\n",
       "        3.77133106e-01, 4.01450512e-01, 4.01450512e-01, 4.04436860e-01,\n",
       "        4.04436860e-01, 4.07423208e-01, 4.07423208e-01, 4.12116041e-01,\n",
       "        4.12116041e-01, 4.13822526e-01, 4.13822526e-01, 4.18088737e-01,\n",
       "        4.18088737e-01, 4.19795222e-01, 4.19795222e-01, 4.28327645e-01,\n",
       "        4.28327645e-01, 4.38139932e-01, 4.38139932e-01, 4.39846416e-01,\n",
       "        4.39846416e-01, 4.49658703e-01, 4.49658703e-01, 4.50938567e-01,\n",
       "        4.50938567e-01, 4.51365188e-01, 4.51365188e-01, 4.53071672e-01,\n",
       "        4.53071672e-01, 4.67150171e-01, 4.67150171e-01, 4.67576792e-01,\n",
       "        4.67576792e-01, 4.75682594e-01, 4.75682594e-01, 4.85068259e-01,\n",
       "        4.85068259e-01, 4.85494881e-01, 4.85494881e-01, 4.90187713e-01,\n",
       "        4.90187713e-01, 4.96587031e-01, 4.96587031e-01, 4.99573379e-01,\n",
       "        4.99573379e-01, 5.00426621e-01, 5.00426621e-01, 5.00853242e-01,\n",
       "        5.00853242e-01, 5.14931741e-01, 5.14931741e-01, 5.19197952e-01,\n",
       "        5.19197952e-01, 5.27303754e-01, 5.27303754e-01, 5.29863481e-01,\n",
       "        5.29863481e-01, 5.32849829e-01, 5.32849829e-01, 5.33276451e-01,\n",
       "        5.33276451e-01, 5.40102389e-01, 5.40102389e-01, 5.51621160e-01,\n",
       "        5.51621160e-01, 5.55034130e-01, 5.55034130e-01, 5.57167235e-01,\n",
       "        5.57167235e-01, 5.57593857e-01, 5.57593857e-01, 5.58873720e-01,\n",
       "        5.58873720e-01, 5.66552901e-01, 5.66552901e-01, 5.67406143e-01,\n",
       "        5.67406143e-01, 5.68686007e-01, 5.68686007e-01, 5.69112628e-01,\n",
       "        5.69112628e-01, 5.69539249e-01, 5.69539249e-01, 5.71672355e-01,\n",
       "        5.71672355e-01, 5.79778157e-01, 5.79778157e-01, 5.88737201e-01,\n",
       "        5.88737201e-01, 6.03242321e-01, 6.03242321e-01, 6.08361775e-01,\n",
       "        6.08361775e-01, 6.17747440e-01, 6.17747440e-01, 6.29266212e-01,\n",
       "        6.29266212e-01, 6.46757679e-01, 6.46757679e-01, 6.51877133e-01,\n",
       "        6.51877133e-01, 6.62116041e-01, 6.62116041e-01, 6.63395904e-01,\n",
       "        6.63395904e-01, 6.66808874e-01, 6.66808874e-01, 6.67662116e-01,\n",
       "        6.67662116e-01, 6.70221843e-01, 6.70221843e-01, 6.77901024e-01,\n",
       "        6.77901024e-01, 6.80034130e-01, 6.80034130e-01, 6.86006826e-01,\n",
       "        6.86006826e-01, 6.94539249e-01, 6.94539249e-01, 6.97952218e-01,\n",
       "        6.97952218e-01, 7.06058020e-01, 7.06058020e-01, 7.42320819e-01,\n",
       "        7.42320819e-01, 7.45307167e-01, 7.45307167e-01, 7.51279863e-01,\n",
       "        7.51279863e-01, 7.73037543e-01, 7.73037543e-01, 7.79863481e-01,\n",
       "        7.79863481e-01, 7.93515358e-01, 7.93515358e-01, 7.95221843e-01,\n",
       "        7.95221843e-01, 8.03327645e-01, 8.03327645e-01, 8.16126280e-01,\n",
       "        8.16126280e-01, 8.19965870e-01, 8.19965870e-01, 8.30631399e-01,\n",
       "        8.30631399e-01, 8.40870307e-01, 8.40870307e-01, 8.48122867e-01,\n",
       "        8.48122867e-01, 8.54948805e-01, 8.54948805e-01, 8.68600683e-01,\n",
       "        8.68600683e-01, 8.69027304e-01, 8.69027304e-01, 9.04010239e-01,\n",
       "        9.04010239e-01, 9.10836177e-01, 9.10836177e-01, 9.25341297e-01,\n",
       "        9.25341297e-01, 9.57764505e-01, 9.57764505e-01, 9.69283276e-01,\n",
       "        9.69283276e-01, 9.83788396e-01, 9.83788396e-01, 9.88907850e-01,\n",
       "        9.88907850e-01, 1.00000000e+00]),\n",
       " array([0.        , 0.00150602, 0.00301205, 0.00301205, 0.02108434,\n",
       "        0.02108434, 0.0873494 , 0.0873494 , 0.09638554, 0.09638554,\n",
       "        0.11445783, 0.11445783, 0.12198795, 0.12198795, 0.15963855,\n",
       "        0.15963855, 0.16415663, 0.16415663, 0.18222892, 0.18222892,\n",
       "        0.20783133, 0.20783133, 0.20933735, 0.20933735, 0.2123494 ,\n",
       "        0.2123494 , 0.22289157, 0.22289157, 0.23042169, 0.23042169,\n",
       "        0.23644578, 0.23644578, 0.2439759 , 0.2439759 , 0.25      ,\n",
       "        0.25      , 0.25301205, 0.25301205, 0.2560241 , 0.2560241 ,\n",
       "        0.26204819, 0.26204819, 0.27108434, 0.27108434, 0.27409639,\n",
       "        0.27409639, 0.28463855, 0.28463855, 0.28614458, 0.28614458,\n",
       "        0.28915663, 0.28915663, 0.2936747 , 0.2936747 , 0.29518072,\n",
       "        0.29518072, 0.30421687, 0.30421687, 0.30572289, 0.30572289,\n",
       "        0.31174699, 0.31174699, 0.31325301, 0.31325301, 0.32379518,\n",
       "        0.32379518, 0.32680723, 0.32680723, 0.32831325, 0.32831325,\n",
       "        0.33584337, 0.33584337, 0.34036145, 0.34036145, 0.34789157,\n",
       "        0.34789157, 0.34939759, 0.34939759, 0.35240964, 0.35240964,\n",
       "        0.35391566, 0.35391566, 0.35692771, 0.35692771, 0.36295181,\n",
       "        0.36295181, 0.36445783, 0.36445783, 0.36596386, 0.36596386,\n",
       "        0.3689759 , 0.3689759 , 0.37801205, 0.37801205, 0.37951807,\n",
       "        0.37951807, 0.3810241 , 0.3810241 , 0.38253012, 0.38253012,\n",
       "        0.38403614, 0.38403614, 0.38855422, 0.38855422, 0.39006024,\n",
       "        0.39006024, 0.39608434, 0.39608434, 0.40060241, 0.40060241,\n",
       "        0.40210843, 0.40210843, 0.40361446, 0.40361446, 0.40512048,\n",
       "        0.40512048, 0.40813253, 0.40813253, 0.41114458, 0.41114458,\n",
       "        0.4186747 , 0.4186747 , 0.42319277, 0.42319277, 0.4246988 ,\n",
       "        0.4246988 , 0.43373494, 0.43373494, 0.43674699, 0.43674699,\n",
       "        0.43825301, 0.43825301, 0.44277108, 0.44277108, 0.44427711,\n",
       "        0.44427711, 0.44728916, 0.44728916, 0.4503012 , 0.4503012 ,\n",
       "        0.45331325, 0.45331325, 0.45933735, 0.45933735, 0.4623494 ,\n",
       "        0.4623494 , 0.46686747, 0.46686747, 0.46837349, 0.46837349,\n",
       "        0.47289157, 0.47289157, 0.47439759, 0.47439759, 0.47590361,\n",
       "        0.47590361, 0.47740964, 0.47740964, 0.47891566, 0.47891566,\n",
       "        0.48192771, 0.48192771, 0.48343373, 0.48343373, 0.49096386,\n",
       "        0.49096386, 0.49246988, 0.49246988, 0.4939759 , 0.4939759 ,\n",
       "        0.49548193, 0.49548193, 0.49698795, 0.49698795, 0.50150602,\n",
       "        0.50150602, 0.50451807, 0.50451807, 0.5060241 , 0.5060241 ,\n",
       "        0.50753012, 0.50753012, 0.51054217, 0.51054217, 0.51355422,\n",
       "        0.51355422, 0.51656627, 0.51656627, 0.51807229, 0.51807229,\n",
       "        0.51957831, 0.51957831, 0.52409639, 0.52409639, 0.52560241,\n",
       "        0.52560241, 0.52710843, 0.52710843, 0.52861446, 0.52861446,\n",
       "        0.53012048, 0.53012048, 0.53162651, 0.53162651, 0.53463855,\n",
       "        0.53463855, 0.5376506 , 0.5376506 , 0.53915663, 0.53915663,\n",
       "        0.54066265, 0.54066265, 0.5436747 , 0.5436747 , 0.54518072,\n",
       "        0.54518072, 0.55271084, 0.55271084, 0.55572289, 0.55572289,\n",
       "        0.55722892, 0.55722892, 0.55873494, 0.55873494, 0.56024096,\n",
       "        0.56024096, 0.56325301, 0.56325301, 0.56927711, 0.56927711,\n",
       "        0.57228916, 0.57228916, 0.57379518, 0.57379518, 0.5753012 ,\n",
       "        0.5753012 , 0.57831325, 0.57831325, 0.57981928, 0.57981928,\n",
       "        0.5813253 , 0.5813253 , 0.58283133, 0.58283133, 0.58433735,\n",
       "        0.58433735, 0.58584337, 0.58584337, 0.58885542, 0.58885542,\n",
       "        0.59186747, 0.59186747, 0.59337349, 0.59337349, 0.59487952,\n",
       "        0.59487952, 0.59638554, 0.59638554, 0.59789157, 0.59789157,\n",
       "        0.59939759, 0.59939759, 0.60090361, 0.60090361, 0.60240964,\n",
       "        0.60240964, 0.60391566, 0.60391566, 0.60542169, 0.60542169,\n",
       "        0.60993976, 0.60993976, 0.61144578, 0.61144578, 0.61295181,\n",
       "        0.61295181, 0.61596386, 0.61596386, 0.61746988, 0.61746988,\n",
       "        0.6189759 , 0.6189759 , 0.62048193, 0.62048193, 0.62198795,\n",
       "        0.62198795, 0.62349398, 0.62349398, 0.625     , 0.625     ,\n",
       "        0.63253012, 0.63253012, 0.63403614, 0.63403614, 0.63554217,\n",
       "        0.63554217, 0.64307229, 0.64307229, 0.64457831, 0.64457831,\n",
       "        0.64608434, 0.64608434, 0.64759036, 0.64759036, 0.64909639,\n",
       "        0.64909639, 0.65060241, 0.65060241, 0.65210843, 0.65210843,\n",
       "        0.65361446, 0.65361446, 0.65512048, 0.65512048, 0.65662651,\n",
       "        0.65662651, 0.65813253, 0.65813253, 0.65963855, 0.65963855,\n",
       "        0.66114458, 0.66114458, 0.6626506 , 0.6626506 , 0.66566265,\n",
       "        0.66566265, 0.66716867, 0.66716867, 0.6686747 , 0.6686747 ,\n",
       "        0.67018072, 0.67018072, 0.67319277, 0.67319277, 0.6746988 ,\n",
       "        0.6746988 , 0.67620482, 0.67620482, 0.67771084, 0.67771084,\n",
       "        0.68072289, 0.68072289, 0.68222892, 0.68222892, 0.68373494,\n",
       "        0.68373494, 0.68524096, 0.68524096, 0.68674699, 0.68674699,\n",
       "        0.68975904, 0.68975904, 0.69126506, 0.69126506, 0.69277108,\n",
       "        0.69277108, 0.69427711, 0.69427711, 0.69578313, 0.69578313,\n",
       "        0.69728916, 0.69728916, 0.7003012 , 0.7003012 , 0.70180723,\n",
       "        0.70180723, 0.70481928, 0.70481928, 0.7063253 , 0.7063253 ,\n",
       "        0.70933735, 0.70933735, 0.71084337, 0.71084337, 0.71536145,\n",
       "        0.71536145, 0.71686747, 0.71686747, 0.71837349, 0.71837349,\n",
       "        0.71987952, 0.71987952, 0.72289157, 0.72289157, 0.72439759,\n",
       "        0.72439759, 0.72891566, 0.72891566, 0.73042169, 0.73042169,\n",
       "        0.73192771, 0.73192771, 0.73343373, 0.73343373, 0.73644578,\n",
       "        0.73644578, 0.73945783, 0.73945783, 0.74096386, 0.74096386,\n",
       "        0.7439759 , 0.7439759 , 0.74548193, 0.74548193, 0.74698795,\n",
       "        0.74698795, 0.74849398, 0.74849398, 0.75      , 0.75      ,\n",
       "        0.7560241 , 0.7560241 , 0.75753012, 0.75753012, 0.75903614,\n",
       "        0.75903614, 0.76355422, 0.76355422, 0.76656627, 0.76656627,\n",
       "        0.76807229, 0.76807229, 0.76957831, 0.76957831, 0.77108434,\n",
       "        0.77108434, 0.77259036, 0.77259036, 0.77409639, 0.77409639,\n",
       "        0.77560241, 0.77560241, 0.77710843, 0.77710843, 0.77861446,\n",
       "        0.77861446, 0.78012048, 0.78012048, 0.78162651, 0.78162651,\n",
       "        0.78313253, 0.78313253, 0.78463855, 0.78463855, 0.78614458,\n",
       "        0.78614458, 0.78915663, 0.78915663, 0.79066265, 0.79066265,\n",
       "        0.7936747 , 0.7936747 , 0.79518072, 0.79518072, 0.79668675,\n",
       "        0.79668675, 0.7996988 , 0.7996988 , 0.80120482, 0.80120482,\n",
       "        0.80271084, 0.80271084, 0.80421687, 0.80421687, 0.80572289,\n",
       "        0.80572289, 0.80722892, 0.80722892, 0.80873494, 0.80873494,\n",
       "        0.81024096, 0.81024096, 0.81174699, 0.81174699, 0.81325301,\n",
       "        0.81325301, 0.81475904, 0.81475904, 0.81626506, 0.81626506,\n",
       "        0.81927711, 0.81927711, 0.82078313, 0.82078313, 0.82228916,\n",
       "        0.82228916, 0.82379518, 0.82379518, 0.8253012 , 0.8253012 ,\n",
       "        0.82981928, 0.82981928, 0.8313253 , 0.8313253 , 0.83283133,\n",
       "        0.83283133, 0.83433735, 0.83433735, 0.83584337, 0.83584337,\n",
       "        0.83885542, 0.83885542, 0.84036145, 0.84036145, 0.84186747,\n",
       "        0.84186747, 0.84337349, 0.84337349, 0.84487952, 0.84487952,\n",
       "        0.84638554, 0.84638554, 0.84789157, 0.84789157, 0.84939759,\n",
       "        0.84939759, 0.85090361, 0.85090361, 0.85240964, 0.85240964,\n",
       "        0.85391566, 0.85391566, 0.85542169, 0.85542169, 0.85692771,\n",
       "        0.85692771, 0.85843373, 0.85843373, 0.85993976, 0.85993976,\n",
       "        0.86295181, 0.86295181, 0.86445783, 0.86445783, 0.86596386,\n",
       "        0.86596386, 0.86746988, 0.86746988, 0.8689759 , 0.8689759 ,\n",
       "        0.87048193, 0.87048193, 0.87198795, 0.87198795, 0.87349398,\n",
       "        0.87349398, 0.875     , 0.875     , 0.87650602, 0.87650602,\n",
       "        0.87951807, 0.87951807, 0.8810241 , 0.8810241 , 0.88253012,\n",
       "        0.88253012, 0.88403614, 0.88403614, 0.88554217, 0.88554217,\n",
       "        0.88855422, 0.88855422, 0.89006024, 0.89006024, 0.89156627,\n",
       "        0.89156627, 0.89307229, 0.89307229, 0.89457831, 0.89457831,\n",
       "        0.89608434, 0.89608434, 0.89759036, 0.89759036, 0.90060241,\n",
       "        0.90060241, 0.90210843, 0.90210843, 0.90512048, 0.90512048,\n",
       "        0.90662651, 0.90662651, 0.90813253, 0.90813253, 0.90963855,\n",
       "        0.90963855, 0.91114458, 0.91114458, 0.9126506 , 0.9126506 ,\n",
       "        0.91415663, 0.91415663, 0.91566265, 0.91566265, 0.9186747 ,\n",
       "        0.9186747 , 0.92168675, 0.92168675, 0.92319277, 0.92319277,\n",
       "        0.9246988 , 0.9246988 , 0.92620482, 0.92620482, 0.92771084,\n",
       "        0.92771084, 0.92921687, 0.92921687, 0.93072289, 0.93072289,\n",
       "        0.93222892, 0.93222892, 0.93373494, 0.93373494, 0.93524096,\n",
       "        0.93524096, 0.93674699, 0.93674699, 0.93825301, 0.93825301,\n",
       "        0.93975904, 0.93975904, 0.94126506, 0.94126506, 0.94277108,\n",
       "        0.94277108, 0.94427711, 0.94427711, 0.94578313, 0.94578313,\n",
       "        0.94728916, 0.94728916, 0.94879518, 0.94879518, 0.9503012 ,\n",
       "        0.9503012 , 0.95180723, 0.95180723, 0.95331325, 0.95331325,\n",
       "        0.95481928, 0.95481928, 0.9563253 , 0.9563253 , 0.95783133,\n",
       "        0.95783133, 0.95933735, 0.95933735, 0.96084337, 0.96084337,\n",
       "        0.9623494 , 0.9623494 , 0.96385542, 0.96385542, 0.96536145,\n",
       "        0.96536145, 0.96686747, 0.96686747, 0.96837349, 0.96837349,\n",
       "        0.96987952, 0.96987952, 0.97138554, 0.97138554, 0.97289157,\n",
       "        0.97289157, 0.97439759, 0.97439759, 0.97590361, 0.97590361,\n",
       "        0.97740964, 0.97740964, 0.97891566, 0.97891566, 0.98042169,\n",
       "        0.98042169, 0.98192771, 0.98192771, 0.98343373, 0.98343373,\n",
       "        0.98493976, 0.98493976, 0.98644578, 0.98644578, 0.98795181,\n",
       "        0.98795181, 0.98945783, 0.98945783, 0.99246988, 0.99246988,\n",
       "        0.99548193, 0.99548193, 0.99698795, 0.99698795, 0.99849398,\n",
       "        0.99849398, 1.        , 1.        ]),\n",
       " array([       inf, 0.99829898, 0.99649104, 0.99546132, 0.98440377,\n",
       "        0.98421249, 0.95945054, 0.95922331, 0.95684752, 0.95684606,\n",
       "        0.95057127, 0.95024753, 0.94843666, 0.94679802, 0.93717127,\n",
       "        0.93680164, 0.93580436, 0.93461383, 0.92955535, 0.92856594,\n",
       "        0.92380208, 0.92296052, 0.92214174, 0.92145099, 0.91931138,\n",
       "        0.91877248, 0.91598693, 0.91534777, 0.9129222 , 0.91195517,\n",
       "        0.90942959, 0.90912355, 0.90560032, 0.90444978, 0.90355273,\n",
       "        0.90344721, 0.90269314, 0.90146925, 0.90059172, 0.90006526,\n",
       "        0.89737547, 0.89655753, 0.89434204, 0.89230737, 0.89000575,\n",
       "        0.88972965, 0.8869479 , 0.88588543, 0.88584431, 0.88466072,\n",
       "        0.88360367, 0.88329988, 0.88235951, 0.88129782, 0.88120692,\n",
       "        0.88114597, 0.87839926, 0.87825969, 0.87714875, 0.87673744,\n",
       "        0.87455141, 0.87370808, 0.87370378, 0.87365639, 0.87048456,\n",
       "        0.86903828, 0.86725264, 0.86593336, 0.86574439, 0.86519805,\n",
       "        0.863411  , 0.86339465, 0.86254699, 0.86232624, 0.86070891,\n",
       "        0.85852231, 0.8579596 , 0.85726837, 0.85628301, 0.85496563,\n",
       "        0.85460796, 0.85272407, 0.85178018, 0.84876332, 0.84603383,\n",
       "        0.84494009, 0.84263664, 0.84227548, 0.84211996, 0.84183331,\n",
       "        0.8409624 , 0.84079224, 0.83675277, 0.8358346 , 0.83582496,\n",
       "        0.83522282, 0.83417515, 0.83411458, 0.83374791, 0.83292075,\n",
       "        0.83218792, 0.83068128, 0.82981695, 0.82949567, 0.82930463,\n",
       "        0.82907763, 0.82816072, 0.82787795, 0.82753746, 0.82700454,\n",
       "        0.82670329, 0.82556365, 0.82503806, 0.82483463, 0.82364744,\n",
       "        0.82319643, 0.82141361, 0.8196719 , 0.8193541 , 0.81900356,\n",
       "        0.81444404, 0.81416715, 0.81258025, 0.81115966, 0.81098293,\n",
       "        0.80954027, 0.80784112, 0.80780408, 0.807283  , 0.80302961,\n",
       "        0.80219038, 0.80148182, 0.80070098, 0.80036007, 0.80023341,\n",
       "        0.80023033, 0.79897939, 0.79889142, 0.79798981, 0.79683006,\n",
       "        0.79577507, 0.79359958, 0.79192012, 0.791497  , 0.78792829,\n",
       "        0.78790523, 0.78694109, 0.78408671, 0.78397308, 0.78220558,\n",
       "        0.78149412, 0.78130431, 0.78117278, 0.77713026, 0.77578541,\n",
       "        0.77563293, 0.77463428, 0.77411226, 0.77408633, 0.77288792,\n",
       "        0.77208102, 0.77112895, 0.77030106, 0.76980012, 0.76714393,\n",
       "        0.76643399, 0.76460428, 0.76413292, 0.76297251, 0.76105659,\n",
       "        0.7605556 , 0.75940843, 0.75928702, 0.75757115, 0.75542781,\n",
       "        0.75503106, 0.752965  , 0.75049709, 0.74982462, 0.74878943,\n",
       "        0.74867178, 0.74728571, 0.74680485, 0.74629715, 0.74525812,\n",
       "        0.74321928, 0.74215533, 0.74179574, 0.74177871, 0.74140781,\n",
       "        0.73978563, 0.73819711, 0.73622933, 0.73535764, 0.73464402,\n",
       "        0.73282284, 0.73270723, 0.73234447, 0.73225438, 0.73114041,\n",
       "        0.73048253, 0.73030342, 0.72908563, 0.72741504, 0.72684427,\n",
       "        0.72614151, 0.7256133 , 0.72519641, 0.7250901 , 0.72233439,\n",
       "        0.72226009, 0.71846253, 0.71786529, 0.71774385, 0.71712136,\n",
       "        0.71568698, 0.71270608, 0.70951048, 0.70900131, 0.70890358,\n",
       "        0.70882358, 0.70825193, 0.70769421, 0.70706364, 0.70604242,\n",
       "        0.69810954, 0.69700094, 0.69582091, 0.69330635, 0.69203929,\n",
       "        0.6916207 , 0.69079599, 0.68958901, 0.68954193, 0.68891304,\n",
       "        0.68774273, 0.68675312, 0.68486501, 0.68471405, 0.68375707,\n",
       "        0.6830962 , 0.68214493, 0.68166541, 0.68069264, 0.6805932 ,\n",
       "        0.68038976, 0.6803829 , 0.67692733, 0.67636863, 0.67575645,\n",
       "        0.67548689, 0.67495222, 0.67470097, 0.67397059, 0.67367932,\n",
       "        0.67349449, 0.67340428, 0.67235468, 0.67225725, 0.67215487,\n",
       "        0.67196623, 0.66919162, 0.66807938, 0.66757884, 0.66722727,\n",
       "        0.66603717, 0.66564155, 0.6653078 , 0.66495615, 0.66470972,\n",
       "        0.66298471, 0.66246634, 0.66203799, 0.66186278, 0.66164393,\n",
       "        0.65989518, 0.65959833, 0.65543346, 0.65470464, 0.65362987,\n",
       "        0.65309785, 0.65172985, 0.65162911, 0.65126015, 0.65041017,\n",
       "        0.64845765, 0.64818614, 0.64726231, 0.64575649, 0.64443694,\n",
       "        0.63954242, 0.62550118, 0.62549787, 0.62545731, 0.62497299,\n",
       "        0.62397186, 0.62175883, 0.61999228, 0.61930548, 0.61879435,\n",
       "        0.61869406, 0.61736442, 0.61705721, 0.61567455, 0.61543116,\n",
       "        0.61284976, 0.61194008, 0.61095924, 0.61084084, 0.6096562 ,\n",
       "        0.60949652, 0.60635842, 0.60584024, 0.60569823, 0.60549793,\n",
       "        0.60493732, 0.60490783, 0.60121824, 0.59817429, 0.59627647,\n",
       "        0.59602338, 0.59467421, 0.59380897, 0.59262972, 0.59225387,\n",
       "        0.59208057, 0.59133089, 0.58882956, 0.58785676, 0.58641059,\n",
       "        0.58605896, 0.58305831, 0.58173016, 0.5794709 , 0.57891229,\n",
       "        0.57781608, 0.57748393, 0.57726934, 0.57669363, 0.57515324,\n",
       "        0.57368586, 0.57328239, 0.57224527, 0.57176082, 0.5702379 ,\n",
       "        0.5694087 , 0.56892149, 0.56541954, 0.56414181, 0.55907974,\n",
       "        0.5589388 , 0.55612439, 0.55551506, 0.55533362, 0.55378792,\n",
       "        0.5533528 , 0.55322498, 0.54803534, 0.54733552, 0.54621905,\n",
       "        0.54482027, 0.54185095, 0.54072417, 0.54012828, 0.53996351,\n",
       "        0.53976467, 0.53931998, 0.53785454, 0.53768104, 0.53681065,\n",
       "        0.53608738, 0.53537056, 0.53526137, 0.53216852, 0.53129246,\n",
       "        0.53068886, 0.53040338, 0.52988643, 0.52848597, 0.52616236,\n",
       "        0.52593152, 0.52581768, 0.52476407, 0.52475758, 0.52348934,\n",
       "        0.52278371, 0.52114881, 0.5205039 , 0.52043456, 0.51935897,\n",
       "        0.51864054, 0.51852526, 0.51806149, 0.51684961, 0.51613745,\n",
       "        0.50738077, 0.50709184, 0.50532313, 0.50529227, 0.5048553 ,\n",
       "        0.50347196, 0.49773381, 0.49732606, 0.49185867, 0.49178525,\n",
       "        0.49055977, 0.48963093, 0.48722558, 0.48660484, 0.48300802,\n",
       "        0.48214166, 0.47611248, 0.47608611, 0.47562051, 0.4740783 ,\n",
       "        0.47153061, 0.47069848, 0.47063064, 0.46966736, 0.46846234,\n",
       "        0.46789372, 0.46770229, 0.46756325, 0.46350319, 0.46292835,\n",
       "        0.45742423, 0.45700752, 0.45697834, 0.45677554, 0.45561769,\n",
       "        0.45537621, 0.45273035, 0.45270051, 0.452574  , 0.45254924,\n",
       "        0.45224908, 0.45216623, 0.45206685, 0.45174722, 0.45171167,\n",
       "        0.4512838 , 0.45123302, 0.45122556, 0.44765603, 0.4476187 ,\n",
       "        0.442423  , 0.44189841, 0.42739112, 0.427347  , 0.42454491,\n",
       "        0.42356794, 0.42062787, 0.42046767, 0.41684927, 0.41637654,\n",
       "        0.41604611, 0.41567179, 0.41559268, 0.41525274, 0.41451547,\n",
       "        0.41437383, 0.41246862, 0.41244138, 0.41092547, 0.41036365,\n",
       "        0.40959341, 0.40930891, 0.40775276, 0.40762608, 0.40721054,\n",
       "        0.40693667, 0.40674925, 0.40636637, 0.40347628, 0.40305709,\n",
       "        0.40259256, 0.40209284, 0.40118872, 0.40051303, 0.3961088 ,\n",
       "        0.39566494, 0.39469543, 0.39455063, 0.39388289, 0.39329037,\n",
       "        0.38821427, 0.38799084, 0.38736439, 0.38733012, 0.38492627,\n",
       "        0.38428553, 0.37974935, 0.3796632 , 0.37935302, 0.37927624,\n",
       "        0.37244289, 0.37215898, 0.37157241, 0.37142657, 0.37020206,\n",
       "        0.36900074, 0.36854046, 0.36849516, 0.36603301, 0.36528512,\n",
       "        0.36182625, 0.3613521 , 0.35981306, 0.35958106, 0.35679285,\n",
       "        0.356709  , 0.35541559, 0.35525178, 0.35447688, 0.35303282,\n",
       "        0.35218525, 0.3519609 , 0.35057212, 0.35056252, 0.34860656,\n",
       "        0.34797738, 0.34790413, 0.34787593, 0.34549542, 0.34515055,\n",
       "        0.34295478, 0.34211369, 0.3417096 , 0.34138946, 0.32158148,\n",
       "        0.32107056, 0.31897289, 0.31824947, 0.31637611, 0.31593264,\n",
       "        0.31343232, 0.31326703, 0.31272604, 0.31183408, 0.30790088,\n",
       "        0.30780908, 0.30684674, 0.30681882, 0.29976527, 0.29964353,\n",
       "        0.29243618, 0.2924167 , 0.29219717, 0.29208452, 0.28397904,\n",
       "        0.28382825, 0.28252555, 0.28212352, 0.2816772 , 0.28166103,\n",
       "        0.28075706, 0.28048487, 0.27244447, 0.27160999, 0.2715802 ,\n",
       "        0.27112186, 0.26618974, 0.26573504, 0.25884999, 0.25817707,\n",
       "        0.25816652, 0.25767719, 0.255733  , 0.25562906, 0.24912246,\n",
       "        0.24907527, 0.2465243 , 0.24634681, 0.24605063, 0.24575984,\n",
       "        0.24554877, 0.24546905, 0.23859372, 0.23850888, 0.23665294,\n",
       "        0.23619962, 0.23266959, 0.23224692, 0.23123506, 0.23077886,\n",
       "        0.22819646, 0.2279534 , 0.22786776, 0.22765517, 0.22373325,\n",
       "        0.2236001 , 0.21913583, 0.21885134, 0.21814073, 0.21783067,\n",
       "        0.21706959, 0.21679297, 0.2163201 , 0.21609039, 0.21498388,\n",
       "        0.21480046, 0.20959487, 0.20904291, 0.20893585, 0.20885482,\n",
       "        0.20774493, 0.20759651, 0.20711768, 0.20711311, 0.20683215,\n",
       "        0.20663992, 0.20606534, 0.20577079, 0.20304874, 0.20304098,\n",
       "        0.20133757, 0.20131783, 0.19351269, 0.19337516, 0.19187295,\n",
       "        0.19141205, 0.18823613, 0.18804848, 0.18393726, 0.18346899,\n",
       "        0.1737471 , 0.17308902, 0.16904497, 0.16903386, 0.16338443,\n",
       "        0.16332897, 0.16301159, 0.16258366, 0.16130639, 0.1611707 ,\n",
       "        0.16111778, 0.16100409, 0.15989732, 0.15963929, 0.15724168,\n",
       "        0.15717992, 0.1566527 , 0.15640758, 0.15439453, 0.15415716,\n",
       "        0.1517882 , 0.15178018, 0.15052423, 0.15041115, 0.14583959,\n",
       "        0.14574087, 0.13055227, 0.13053365, 0.13013199, 0.13011051,\n",
       "        0.12751392, 0.12751233, 0.11910103, 0.11905867, 0.11624068,\n",
       "        0.11613205, 0.11128018, 0.11114565, 0.11078658, 0.11064093,\n",
       "        0.10741684, 0.1073265 , 0.10292122, 0.10276773, 0.10131806,\n",
       "        0.10129811, 0.09508589, 0.09465007, 0.08989415, 0.08975275,\n",
       "        0.08661706, 0.08661101, 0.08464357, 0.08437073, 0.07937346,\n",
       "        0.07925739, 0.07910006, 0.07887936, 0.06608028, 0.06603885,\n",
       "        0.06402911, 0.06392169, 0.05737959, 0.05717818, 0.04682868,\n",
       "        0.04655821, 0.04151871, 0.04142936, 0.03495616, 0.03467695,\n",
       "        0.03109269, 0.03094916, 0.01460922]))"
      ]
     },
     "execution_count": 28,
     "metadata": {},
     "output_type": "execute_result"
    }
   ],
   "source": [
    "fpr, tpr, thresholds"
   ]
  },
  {
   "cell_type": "code",
   "execution_count": 29,
   "metadata": {},
   "outputs": [],
   "source": [
    "smote = SMOTE(random_state=42)\n",
    "X_train_resampled, y_train_resampled = smote.fit_resample(X_entreno, Y_entreno)"
   ]
  },
  {
   "cell_type": "code",
   "execution_count": 30,
   "metadata": {},
   "outputs": [
    {
     "name": "stdout",
     "output_type": "stream",
     "text": [
      "              precision    recall  f1-score   support\n",
      "\n",
      "       False       0.92      0.78      0.84      2344\n",
      "        True       0.49      0.75      0.59       664\n",
      "\n",
      "    accuracy                           0.77      3008\n",
      "   macro avg       0.70      0.76      0.72      3008\n",
      "weighted avg       0.82      0.77      0.79      3008\n",
      "\n",
      "[[1825  519]\n",
      " [ 169  495]]\n"
     ]
    },
    {
     "name": "stderr",
     "output_type": "stream",
     "text": [
      "c:\\Users\\edus_\\AppData\\Local\\Programs\\Python\\Python312\\Lib\\site-packages\\sklearn\\linear_model\\_logistic.py:460: ConvergenceWarning: lbfgs failed to converge (status=1):\n",
      "STOP: TOTAL NO. of ITERATIONS REACHED LIMIT.\n",
      "\n",
      "Increase the number of iterations (max_iter) or scale the data as shown in:\n",
      "    https://scikit-learn.org/stable/modules/preprocessing.html\n",
      "Please also refer to the documentation for alternative solver options:\n",
      "    https://scikit-learn.org/stable/modules/linear_model.html#logistic-regression\n",
      "  n_iter_i = _check_optimize_result(\n"
     ]
    }
   ],
   "source": [
    "logistic_model = LogisticRegression(random_state=42)\n",
    "logistic_model.fit(X_train_resampled, y_train_resampled)\n",
    "y_pred = logistic_model.predict(X_testeo)\n",
    "\n",
    "print(classification_report(Y_testeo, y_pred))\n",
    "print(confusion_matrix(Y_testeo, y_pred))"
   ]
  },
  {
   "cell_type": "code",
   "execution_count": 31,
   "metadata": {},
   "outputs": [
    {
     "name": "stdout",
     "output_type": "stream",
     "text": [
      "Resultados para un Random Forest con Oversampling:\n",
      "\n",
      "              precision    recall  f1-score   support\n",
      "\n",
      "       False       0.89      0.91      0.90      2344\n",
      "        True       0.66      0.60      0.63       664\n",
      "\n",
      "    accuracy                           0.84      3008\n",
      "   macro avg       0.77      0.76      0.76      3008\n",
      "weighted avg       0.84      0.84      0.84      3008\n",
      "\n",
      "[[2138  206]\n",
      " [ 266  398]]\n"
     ]
    }
   ],
   "source": [
    "rf_model = RandomForestClassifier(random_state=42)#\n",
    "rf_model.fit(X_train_resampled, y_train_resampled)\n",
    "y_pred = rf_model.predict(X_testeo)\n",
    "\n",
    "print(\"Resultados para un Random Forest con Oversampling:\\n\")\n",
    "print(classification_report(Y_testeo, y_pred))\n",
    "print(confusion_matrix(Y_testeo, y_pred))"
   ]
  },
  {
   "cell_type": "markdown",
   "metadata": {},
   "source": [
    "###MODELO BASE##"
   ]
  },
  {
   "cell_type": "code",
   "execution_count": 32,
   "metadata": {},
   "outputs": [],
   "source": [
    "X_Base = df_nom[[ 'LlueveHoy_Yes' ]]\n",
    "Y_Base = df_nom['LlueveMan_No'] \n",
    "\n",
    "\n",
    "X_entreno_b, X_testeo_b, Y_entreno_b, Y_testeo_b = train_test_split(X_Base, Y_Base, test_size=0.20, random_state= 1)"
   ]
  },
  {
   "cell_type": "code",
   "execution_count": 33,
   "metadata": {},
   "outputs": [
    {
     "name": "stdout",
     "output_type": "stream",
     "text": [
      "Resultados con regresión logística\n",
      "\n",
      "              precision    recall  f1-score   support\n",
      "\n",
      "       False       0.00      0.00      0.00       664\n",
      "        True       0.78      1.00      0.88      2344\n",
      "\n",
      "    accuracy                           0.78      3008\n",
      "   macro avg       0.39      0.50      0.44      3008\n",
      "weighted avg       0.61      0.78      0.68      3008\n",
      "\n",
      "[[   0  664]\n",
      " [   0 2344]]\n"
     ]
    },
    {
     "name": "stderr",
     "output_type": "stream",
     "text": [
      "c:\\Users\\edus_\\AppData\\Local\\Programs\\Python\\Python312\\Lib\\site-packages\\sklearn\\metrics\\_classification.py:1471: UndefinedMetricWarning: Precision and F-score are ill-defined and being set to 0.0 in labels with no predicted samples. Use `zero_division` parameter to control this behavior.\n",
      "  _warn_prf(average, modifier, msg_start, len(result))\n",
      "c:\\Users\\edus_\\AppData\\Local\\Programs\\Python\\Python312\\Lib\\site-packages\\sklearn\\metrics\\_classification.py:1471: UndefinedMetricWarning: Precision and F-score are ill-defined and being set to 0.0 in labels with no predicted samples. Use `zero_division` parameter to control this behavior.\n",
      "  _warn_prf(average, modifier, msg_start, len(result))\n",
      "c:\\Users\\edus_\\AppData\\Local\\Programs\\Python\\Python312\\Lib\\site-packages\\sklearn\\metrics\\_classification.py:1471: UndefinedMetricWarning: Precision and F-score are ill-defined and being set to 0.0 in labels with no predicted samples. Use `zero_division` parameter to control this behavior.\n",
      "  _warn_prf(average, modifier, msg_start, len(result))\n"
     ]
    }
   ],
   "source": [
    "\n",
    "logistic_model_Base = LogisticRegression(random_state=42) \n",
    "logistic_model_Base.fit(X_entreno_b, Y_entreno_b)\n",
    "y_pred_b = logistic_model_Base.predict(X_testeo_b)\n",
    "\n",
    "print(\"Resultados con regresión logística\\n\")\n",
    "print(classification_report(Y_testeo_b, y_pred_b))                                                                                                                     \n",
    "print(confusion_matrix(Y_testeo_b, y_pred_b))"
   ]
  },
  {
   "cell_type": "code",
   "execution_count": null,
   "metadata": {},
   "outputs": [],
   "source": []
  },
  {
   "cell_type": "code",
   "execution_count": null,
   "metadata": {},
   "outputs": [],
   "source": []
  },
  {
   "cell_type": "code",
   "execution_count": null,
   "metadata": {},
   "outputs": [],
   "source": []
  }
 ],
 "metadata": {
  "kernelspec": {
   "display_name": "Python 3",
   "language": "python",
   "name": "python3"
  },
  "language_info": {
   "codemirror_mode": {
    "name": "ipython",
    "version": 3
   },
   "file_extension": ".py",
   "mimetype": "text/x-python",
   "name": "python",
   "nbconvert_exporter": "python",
   "pygments_lexer": "ipython3",
   "version": "3.12.0"
  }
 },
 "nbformat": 4,
 "nbformat_minor": 2
}
