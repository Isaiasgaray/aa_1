{
 "cells": [
  {
   "cell_type": "code",
   "execution_count": 3,
   "metadata": {},
   "outputs": [],
   "source": [
    "import numpy as np\n",
    "import pandas as pd\n",
    "import matplotlib.pyplot as plt\n",
    "import seaborn as sns\n",
    "from sklearn.datasets import make_classification\n",
    "from sklearn.model_selection import train_test_split\n",
    "from sklearn.linear_model import LogisticRegression\n",
    "from sklearn.ensemble import RandomForestClassifier\n",
    "from sklearn.metrics import classification_report, confusion_matrix\n",
    "from imblearn.over_sampling import RandomOverSampler, SMOTE\n",
    "from imblearn.under_sampling import RandomUnderSampler, NearMiss"
   ]
  },
  {
   "cell_type": "code",
   "execution_count": 4,
   "metadata": {},
   "outputs": [],
   "source": [
    "import numpy as np\n",
    "import matplotlib.pyplot as plt\n",
    "from sklearn.datasets import make_classification\n",
    "from sklearn.model_selection import train_test_split\n",
    "from sklearn.linear_model import LogisticRegression\n",
    "from sklearn.metrics import roc_curve, roc_auc_score, auc\n",
    "from sklearn.ensemble import RandomForestClassifier\n",
    "from sklearn.preprocessing import label_binarize\n",
    "from sklearn.multiclass import OneVsRestClassifier"
   ]
  },
  {
   "cell_type": "code",
   "execution_count": 5,
   "metadata": {},
   "outputs": [],
   "source": [
    "df = pd.read_csv('datasets/weatherAUS.csv', index_col=0)"
   ]
  },
  {
   "cell_type": "code",
   "execution_count": 6,
   "metadata": {},
   "outputs": [],
   "source": [
    "ciudades = ['Sydney',\n",
    "            'SydneyAirport',\n",
    "            'Canberra',\n",
    "            'Melbourne',\n",
    "            'MelbourneAirport']"
   ]
  },
  {
   "cell_type": "code",
   "execution_count": 7,
   "metadata": {},
   "outputs": [],
   "source": [
    "ciudades_df = df[df['Location'].isin(ciudades)]\\\n",
    "                .copy()\\\n",
    "                .reset_index(drop=True)"
   ]
  },
  {
   "cell_type": "code",
   "execution_count": 8,
   "metadata": {},
   "outputs": [],
   "source": [
    "columnas_a_eliminar = ['Date',\"Pressure3pm\", \"WindGustDir\", 'Temp9am', 'MinTemp', 'WindSpeed3pm', 'WindSpeed9am', 'WindDir9am', 'WindDir3pm' ]\n",
    "df_sin_columnas = ciudades_df.drop(columns=columnas_a_eliminar)\n"
   ]
  },
  {
   "cell_type": "code",
   "execution_count": 9,
   "metadata": {},
   "outputs": [],
   "source": [
    "promedio_Pres9am = df_sin_columnas[\"Pressure9am\"].mean()"
   ]
  },
  {
   "cell_type": "code",
   "execution_count": 10,
   "metadata": {},
   "outputs": [],
   "source": [
    "df_sin_columnas[\"Pressure9am\"].fillna(promedio_Pres9am, inplace=True)"
   ]
  },
  {
   "cell_type": "code",
   "execution_count": 11,
   "metadata": {},
   "outputs": [
    {
     "data": {
      "text/plain": [
       "Index(['Location', 'MaxTemp', 'Rainfall', 'Evaporation', 'Sunshine',\n",
       "       'WindGustSpeed', 'Humidity9am', 'Humidity3pm', 'Pressure9am',\n",
       "       'Cloud9am', 'Cloud3pm', 'Temp3pm', 'RainToday', 'RainTomorrow',\n",
       "       'RainfallTomorrow'],\n",
       "      dtype='object')"
      ]
     },
     "execution_count": 11,
     "metadata": {},
     "output_type": "execute_result"
    }
   ],
   "source": [
    "df_sin_columnas.columns"
   ]
  },
  {
   "cell_type": "code",
   "execution_count": 12,
   "metadata": {},
   "outputs": [],
   "source": [
    "df_sin_columnas['MaxTemp'].interpolate(method='linear', inplace=True)"
   ]
  },
  {
   "cell_type": "code",
   "execution_count": 13,
   "metadata": {},
   "outputs": [],
   "source": [
    "df_sin_columnas['Evaporation']\\\n",
    "    .fillna(\n",
    "        df_sin_columnas['Evaporation'].mean(),\n",
    "        inplace=True)"
   ]
  },
  {
   "cell_type": "code",
   "execution_count": 14,
   "metadata": {},
   "outputs": [],
   "source": [
    "df_sin_columnas['Sunshine']\\\n",
    "    .fillna(\n",
    "        df_sin_columnas['Sunshine'].median(),\n",
    "        inplace=True)"
   ]
  },
  {
   "cell_type": "code",
   "execution_count": 15,
   "metadata": {},
   "outputs": [],
   "source": [
    "df_sin_columnas['WindGustSpeed']\\\n",
    "    .fillna(\n",
    "        df_sin_columnas['WindGustSpeed'].median(),\n",
    "        inplace=True)"
   ]
  },
  {
   "cell_type": "code",
   "execution_count": 16,
   "metadata": {},
   "outputs": [],
   "source": [
    "df_sin_columnas['Humidity9am']\\\n",
    "    .fillna(\n",
    "        df_sin_columnas['Humidity9am'].mean(),\n",
    "        inplace=True)"
   ]
  },
  {
   "cell_type": "code",
   "execution_count": 17,
   "metadata": {},
   "outputs": [],
   "source": [
    "df_sin_columnas['Humidity3pm']\\\n",
    "    .fillna(\n",
    "        df_sin_columnas['Humidity3pm'].mean(),\n",
    "        inplace=True)"
   ]
  },
  {
   "cell_type": "code",
   "execution_count": 18,
   "metadata": {},
   "outputs": [],
   "source": [
    "df_sin_columnas['Pressure9am']\\\n",
    "    .fillna(\n",
    "        df_sin_columnas['Pressure9am'].mean(),\n",
    "        inplace=True)"
   ]
  },
  {
   "cell_type": "code",
   "execution_count": 19,
   "metadata": {},
   "outputs": [],
   "source": [
    "df_sin_columnas['Cloud9am']\\\n",
    "    .fillna(\n",
    "        df_sin_columnas['Cloud9am'].median(),\n",
    "        inplace=True)"
   ]
  },
  {
   "cell_type": "code",
   "execution_count": 20,
   "metadata": {},
   "outputs": [],
   "source": [
    "df_sin_columnas['Cloud3pm']\\\n",
    "    .fillna(\n",
    "        df_sin_columnas['Cloud3pm'].median(),\n",
    "        inplace=True)"
   ]
  },
  {
   "cell_type": "code",
   "execution_count": 21,
   "metadata": {},
   "outputs": [],
   "source": [
    "df_sin_columnas['Temp3pm']\\\n",
    "    .fillna(\n",
    "        df_sin_columnas['Temp3pm'].mean(),\n",
    "        inplace=True)"
   ]
  },
  {
   "cell_type": "code",
   "execution_count": 22,
   "metadata": {},
   "outputs": [],
   "source": [
    "df_sin_nan = df_sin_columnas.dropna()\n",
    "    "
   ]
  },
  {
   "cell_type": "code",
   "execution_count": 23,
   "metadata": {},
   "outputs": [],
   "source": [
    "df_nom = pd.get_dummies(df_sin_nan, prefix=[\"LlueveHoy\", \"LlueveMan\", \"ciudades\"], columns=[\"RainToday\", \"RainTomorrow\", \"Location\"])"
   ]
  },
  {
   "cell_type": "code",
   "execution_count": 24,
   "metadata": {},
   "outputs": [],
   "source": [
    "# Definir las variables independientes y la dependiente\n",
    "X = df_nom[['MaxTemp', 'Rainfall', 'Evaporation', 'Sunshine',\n",
    "        'WindGustSpeed',\n",
    "       'Humidity9am', 'Humidity3pm', 'Pressure9am',  'Cloud9am',\n",
    "       'Cloud3pm', 'Temp3pm',\n",
    "       'LlueveHoy_Yes'\n",
    "       ]]\n",
    "Y = df_nom['LlueveMan_Yes']\n",
    "\n",
    "# Dividir los datos en conjunto de entrenamiento y de prueba\n",
    "X_entreno, X_testeo, Y_entreno, Y_testeo = train_test_split(X, Y, test_size=0.20, random_state= 1)"
   ]
  },
  {
   "cell_type": "code",
   "execution_count": 25,
   "metadata": {},
   "outputs": [
    {
     "name": "stdout",
     "output_type": "stream",
     "text": [
      "Resultados con regresión logística\n",
      "\n",
      "              precision    recall  f1-score   support\n",
      "\n",
      "       False       0.91      0.78      0.84      2344\n",
      "        True       0.49      0.74      0.59       664\n",
      "\n",
      "    accuracy                           0.77      3008\n",
      "   macro avg       0.70      0.76      0.71      3008\n",
      "weighted avg       0.82      0.77      0.78      3008\n",
      "\n",
      "[[1820  524]\n",
      " [ 170  494]]\n"
     ]
    },
    {
     "name": "stderr",
     "output_type": "stream",
     "text": [
      "C:\\Users\\USER\\AppData\\Local\\Packages\\PythonSoftwareFoundation.Python.3.10_qbz5n2kfra8p0\\LocalCache\\local-packages\\Python310\\site-packages\\sklearn\\linear_model\\_logistic.py:460: ConvergenceWarning: lbfgs failed to converge (status=1):\n",
      "STOP: TOTAL NO. of ITERATIONS REACHED LIMIT.\n",
      "\n",
      "Increase the number of iterations (max_iter) or scale the data as shown in:\n",
      "    https://scikit-learn.org/stable/modules/preprocessing.html\n",
      "Please also refer to the documentation for alternative solver options:\n",
      "    https://scikit-learn.org/stable/modules/linear_model.html#logistic-regression\n",
      "  n_iter_i = _check_optimize_result(\n"
     ]
    }
   ],
   "source": [
    "#X_train, X_test, Y_train, Y_test = train_test_split(X, Y, test_size=0.20, random_state= 1)\n",
    "logistic_model = LogisticRegression(random_state=42, class_weight='balanced')#class_weight='balanced': aca balanceo las clases esto lo q hace en este ejemplo es multiplicar por 9 el COSTO de la clase minoritaria.\n",
    "logistic_model.fit(X_entreno, Y_entreno)\n",
    "y_pred = logistic_model.predict(X_testeo)\n",
    "\n",
    "print(\"Resultados con regresión logística\\n\")\n",
    "print(classification_report(Y_testeo, y_pred))\n",
    "print(confusion_matrix(Y_testeo, y_pred))\n"
   ]
  },
  {
   "cell_type": "code",
   "execution_count": 26,
   "metadata": {},
   "outputs": [],
   "source": [
    "# Obtengo las probabilidades de predicción del modelo\n",
    "y_probs = logistic_model.predict_proba(X_testeo)[:,1]\n",
    "\n",
    "# Calculo la ROC y el AUC\n",
    "fpr, tpr, thresholds = roc_curve(Y_testeo, y_probs)\n",
    "roc_auc = auc(fpr, tpr)"
   ]
  },
  {
   "cell_type": "code",
   "execution_count": 27,
   "metadata": {},
   "outputs": [
    {
     "data": {
      "image/png": "[encoded data removed]",
      "text/plain": [
       "<Figure size 600x400 with 1 Axes>"
      ]
     },
     "metadata": {},
     "output_type": "display_data"
    }
   ],
   "source": [
    "# Grafico la curva ROC\n",
    "plt.figure(figsize=(6, 4))\n",
    "plt.plot(fpr, tpr, color='darkorange', lw=2, label='Curva ROC (AUC = %0.2f)' % roc_auc)\n",
    "plt.plot([0, 1], [0, 1], color='navy', lw=2, linestyle='--')\n",
    "plt.xlim([0.0, 1.0])\n",
    "plt.ylim([0.0, 1.05])\n",
    "plt.xlabel('Tasa de Falsos Positivos (FPR)')\n",
    "plt.ylabel('Tasa de Verdaderos Positivos (TPR)')\n",
    "plt.title('Curva ROC')\n",
    "plt.legend(loc=\"lower right\")\n",
    "plt.show()"
   ]
  },
  {
   "cell_type": "code",
   "execution_count": 28,
   "metadata": {},
   "outputs": [
    {
     "data": {
      "text/plain": [
       "0.8365263528516798"
      ]
     },
     "execution_count": 28,
     "metadata": {},
     "output_type": "execute_result"
    }
   ],
   "source": [
    "roc_auc"
   ]
  },
  {
   "cell_type": "code",
   "execution_count": null,
   "metadata": {},
   "outputs": [],
   "source": [
    "fpr, tpr, thresholds"
   ]
  },
  {
   "cell_type": "code",
   "execution_count": 30,
   "metadata": {},
   "outputs": [],
   "source": [
    "smote = SMOTE(random_state=42)\n",
    "X_train_resampled, y_train_resampled = smote.fit_resample(X_entreno, Y_entreno)"
   ]
  },
  {
   "cell_type": "code",
   "execution_count": 31,
   "metadata": {},
   "outputs": [
    {
     "name": "stdout",
     "output_type": "stream",
     "text": [
      "              precision    recall  f1-score   support\n",
      "\n",
      "       False       0.92      0.78      0.84      2344\n",
      "        True       0.49      0.75      0.59       664\n",
      "\n",
      "    accuracy                           0.77      3008\n",
      "   macro avg       0.70      0.76      0.72      3008\n",
      "weighted avg       0.82      0.77      0.79      3008\n",
      "\n",
      "[[1825  519]\n",
      " [ 169  495]]\n"
     ]
    },
    {
     "name": "stderr",
     "output_type": "stream",
     "text": [
      "C:\\Users\\USER\\AppData\\Local\\Packages\\PythonSoftwareFoundation.Python.3.10_qbz5n2kfra8p0\\LocalCache\\local-packages\\Python310\\site-packages\\sklearn\\linear_model\\_logistic.py:460: ConvergenceWarning: lbfgs failed to converge (status=1):\n",
      "STOP: TOTAL NO. of ITERATIONS REACHED LIMIT.\n",
      "\n",
      "Increase the number of iterations (max_iter) or scale the data as shown in:\n",
      "    https://scikit-learn.org/stable/modules/preprocessing.html\n",
      "Please also refer to the documentation for alternative solver options:\n",
      "    https://scikit-learn.org/stable/modules/linear_model.html#logistic-regression\n",
      "  n_iter_i = _check_optimize_result(\n"
     ]
    }
   ],
   "source": [
    "logistic_model = LogisticRegression(random_state=42)\n",
    "logistic_model.fit(X_train_resampled, y_train_resampled)\n",
    "y_pred = logistic_model.predict(X_testeo)\n",
    "\n",
    "print(classification_report(Y_testeo, y_pred))\n",
    "print(confusion_matrix(Y_testeo, y_pred))"
   ]
  },
  {
   "cell_type": "code",
   "execution_count": 32,
   "metadata": {},
   "outputs": [
    {
     "name": "stdout",
     "output_type": "stream",
     "text": [
      "Resultados para un Random Forest con Oversampling:\n",
      "\n",
      "              precision    recall  f1-score   support\n",
      "\n",
      "       False       0.89      0.91      0.90      2344\n",
      "        True       0.66      0.60      0.63       664\n",
      "\n",
      "    accuracy                           0.84      3008\n",
      "   macro avg       0.77      0.76      0.76      3008\n",
      "weighted avg       0.84      0.84      0.84      3008\n",
      "\n",
      "[[2138  206]\n",
      " [ 266  398]]\n"
     ]
    }
   ],
   "source": [
    "rf_model = RandomForestClassifier(random_state=42)#\n",
    "rf_model.fit(X_train_resampled, y_train_resampled)\n",
    "y_pred = rf_model.predict(X_testeo)\n",
    "\n",
    "print(\"Resultados para un Random Forest con Oversampling:\\n\")\n",
    "print(classification_report(Y_testeo, y_pred))\n",
    "print(confusion_matrix(Y_testeo, y_pred))"
   ]
  }
 ],
 "metadata": {
  "kernelspec": {
   "display_name": "Python 3",
   "language": "python",
   "name": "python3"
  },
  "language_info": {
   "codemirror_mode": {
    "name": "ipython",
    "version": 3
   },
   "file_extension": ".py",
   "mimetype": "text/x-python",
   "name": "python",
   "nbconvert_exporter": "python",
   "pygments_lexer": "ipython3",
   "version": "3.10.11"
  }
 },
 "nbformat": 4,
 "nbformat_minor": 2
}
